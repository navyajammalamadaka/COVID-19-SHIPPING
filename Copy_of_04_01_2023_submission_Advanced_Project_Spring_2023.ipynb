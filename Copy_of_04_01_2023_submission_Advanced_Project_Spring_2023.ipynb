{
  "nbformat": 4,
  "nbformat_minor": 0,
  "metadata": {
    "colab": {
      "provenance": [],
      "include_colab_link": true
    },
    "kernelspec": {
      "name": "python3",
      "display_name": "Python 3"
    },
    "language_info": {
      "name": "python"
    },
    "accelerator": "GPU",
    "gpuClass": "standard"
  },
  "cells": [
    {
      "cell_type": "markdown",
      "metadata": {
        "id": "view-in-github",
        "colab_type": "text"
      },
      "source": [
        "<a href=\"https://colab.research.google.com/github/navyajammalamadaka/COVID-19-SHIPPING/blob/main/Copy_of_04_01_2023_submission_Advanced_Project_Spring_2023.ipynb\" target=\"_parent\"><img src=\"https://colab.research.google.com/assets/colab-badge.svg\" alt=\"Open In Colab\"/></a>"
      ]
    },
    {
      "cell_type": "markdown",
      "source": [
        "# ECE-GY-9953 ADVANCED PROJECT I, Section BK32\n",
        "\n",
        "Date of Submission: 04/01/2023\n",
        "\n",
        "# Team Members:\n",
        "\n",
        "  Navya Sravani Jammalamadaka – nsj9072\n",
        "\n",
        "  Rahul Rathod – rr4080\n"
      ],
      "metadata": {
        "id": "dLbEYHakeITB"
      }
    },
    {
      "cell_type": "code",
      "source": [
        "from google.colab import drive\n",
        "drive.mount('/content/drive')"
      ],
      "metadata": {
        "colab": {
          "base_uri": "https://localhost:8080/"
        },
        "id": "VTC13KKlOndI",
        "outputId": "25e16124-97fb-4958-e494-ee682516ec19"
      },
      "execution_count": null,
      "outputs": [
        {
          "output_type": "stream",
          "name": "stdout",
          "text": [
            "Drive already mounted at /content/drive; to attempt to forcibly remount, call drive.mount(\"/content/drive\", force_remount=True).\n"
          ]
        }
      ]
    },
    {
      "cell_type": "markdown",
      "source": [
        "# Part 1: Plan Benefits Across States and Identifying top benefits."
      ],
      "metadata": {
        "id": "dc26zrBBqYov"
      }
    },
    {
      "cell_type": "markdown",
      "source": [
        "Step 1: Installing libraries and Dependencies"
      ],
      "metadata": {
        "id": "E_UytqTYegfv"
      }
    },
    {
      "cell_type": "code",
      "execution_count": null,
      "metadata": {
        "colab": {
          "base_uri": "https://localhost:8080/"
        },
        "id": "-NU5slX8SX2U",
        "outputId": "26f99278-f747-4e0c-9463-61e462352f81"
      },
      "outputs": [
        {
          "output_type": "stream",
          "name": "stdout",
          "text": [
            "Looking in indexes: https://pypi.org/simple, https://us-python.pkg.dev/colab-wheels/public/simple/\n",
            "Requirement already satisfied: plotly in /usr/local/lib/python3.9/dist-packages (5.13.1)\n",
            "Requirement already satisfied: tenacity>=6.2.0 in /usr/local/lib/python3.9/dist-packages (from plotly) (8.2.2)\n"
          ]
        }
      ],
      "source": [
        "!pip install plotly"
      ]
    },
    {
      "cell_type": "markdown",
      "source": [
        "Step 2: Setting Up Spark Environment"
      ],
      "metadata": {
        "id": "HMgJPqpheHMZ"
      }
    },
    {
      "cell_type": "code",
      "source": [
        "!pip install pyspark"
      ],
      "metadata": {
        "colab": {
          "base_uri": "https://localhost:8080/"
        },
        "id": "DuPBE-fcezOl",
        "outputId": "998889fd-8e17-491f-f75a-71063311b6f7"
      },
      "execution_count": null,
      "outputs": [
        {
          "output_type": "stream",
          "name": "stdout",
          "text": [
            "Looking in indexes: https://pypi.org/simple, https://us-python.pkg.dev/colab-wheels/public/simple/\n",
            "Collecting pyspark\n",
            "  Downloading pyspark-3.3.2.tar.gz (281.4 MB)\n",
            "\u001b[2K     \u001b[90m━━━━━━━━━━━━━━━━━━━━━━━━━━━━━━━━━━━━━━━\u001b[0m \u001b[32m281.4/281.4 MB\u001b[0m \u001b[31m4.4 MB/s\u001b[0m eta \u001b[36m0:00:00\u001b[0m\n",
            "\u001b[?25h  Preparing metadata (setup.py) ... \u001b[?25l\u001b[?25hdone\n",
            "Collecting py4j==0.10.9.5\n",
            "  Downloading py4j-0.10.9.5-py2.py3-none-any.whl (199 kB)\n",
            "\u001b[2K     \u001b[90m━━━━━━━━━━━━━━━━━━━━━━━━━━━━━━━━━━━━━━\u001b[0m \u001b[32m199.7/199.7 KB\u001b[0m \u001b[31m22.5 MB/s\u001b[0m eta \u001b[36m0:00:00\u001b[0m\n",
            "\u001b[?25hBuilding wheels for collected packages: pyspark\n",
            "  Building wheel for pyspark (setup.py) ... \u001b[?25l\u001b[?25hdone\n",
            "  Created wheel for pyspark: filename=pyspark-3.3.2-py2.py3-none-any.whl size=281824028 sha256=4b7213a39ee82d25b5c370d105772cc77dc995dfd6695be0816cc31b6b195ca0\n",
            "  Stored in directory: /root/.cache/pip/wheels/6c/e3/9b/0525ce8a69478916513509d43693511463c6468db0de237c86\n",
            "Successfully built pyspark\n",
            "Installing collected packages: py4j, pyspark\n",
            "  Attempting uninstall: py4j\n",
            "    Found existing installation: py4j 0.10.9.7\n",
            "    Uninstalling py4j-0.10.9.7:\n",
            "      Successfully uninstalled py4j-0.10.9.7\n",
            "Successfully installed py4j-0.10.9.5 pyspark-3.3.2\n"
          ]
        }
      ]
    },
    {
      "cell_type": "code",
      "source": [
        "import pyspark\n",
        "from pyspark.sql.functions import *\n",
        "from pyspark.sql.types import StructType,StructField, StringType, FloatType, IntegerType\n",
        "from pyspark.sql.window import Window"
      ],
      "metadata": {
        "id": "fkSwaFapew38"
      },
      "execution_count": null,
      "outputs": []
    },
    {
      "cell_type": "code",
      "source": [
        "spark = pyspark.sql.SparkSession.builder\\\n",
        "        .master('local[*]')\\\n",
        "        .appName('Health insurance_analysis')\\\n",
        "        .getOrCreate()"
      ],
      "metadata": {
        "id": "FRcaynq2e5KO"
      },
      "execution_count": null,
      "outputs": []
    },
    {
      "cell_type": "code",
      "source": [
        "import pandas as pd\n",
        "pd.set_option('display.max_rows',10)"
      ],
      "metadata": {
        "id": "vCTx_duKfELL"
      },
      "execution_count": null,
      "outputs": []
    },
    {
      "cell_type": "code",
      "source": [
        "benefit = spark.read.option(\"header\",True) \\\n",
        ".option(\"inferSchema\", True) \\\n",
        ".csv(\"/content/drive/MyDrive/Adv Project/output_bcs.csv\")\n"
      ],
      "metadata": {
        "id": "0GHbXo2QfIyr"
      },
      "execution_count": null,
      "outputs": []
    },
    {
      "cell_type": "code",
      "source": [
        "#Let us try to find out the count of each health insurance benefit per year\n",
        "benefit.createOrReplaceTempView (\"Benefits\")\n",
        "benefits_per_year = spark.sql(\"SELECT BenefitName, BusinessYear, count(BenefitName) as count from Benefits GROUP BY BenefitName, BusinessYear\")\n",
        "benefits_per_year.show(5)"
      ],
      "metadata": {
        "colab": {
          "base_uri": "https://localhost:8080/"
        },
        "id": "xaoVUtvkl7Gu",
        "outputId": "28ef6619-b66d-4167-8dea-de9b152c98a0"
      },
      "execution_count": null,
      "outputs": [
        {
          "output_type": "stream",
          "name": "stdout",
          "text": [
            "+--------------------+------------+-----+\n",
            "|         BenefitName|BusinessYear|count|\n",
            "+--------------------+------------+-----+\n",
            "|Fitness Center Me...|        2021|   88|\n",
            "|  Immediate Dentures|        2021|   23|\n",
            "|Substance Abuse D...|        2021|18676|\n",
            "|Root Canal Therap...|        2021|   23|\n",
            "| Tissue Conditioning|        2021|   20|\n",
            "+--------------------+------------+-----+\n",
            "only showing top 5 rows\n",
            "\n"
          ]
        }
      ]
    },
    {
      "cell_type": "code",
      "source": [
        "benefits_per_year.createOrReplaceTempView (\"benefits_per_year\")\n",
        "\n",
        "#Find out the top 5 health insurance benefits availed in the year 2023\n",
        "benefits_2023 = spark.sql(\"SELECT BenefitName, count from benefits_per_year Where BusinessYear='2023' ORDER BY count DESC\")\n",
        "benefits_2023.show(5)"
      ],
      "metadata": {
        "colab": {
          "base_uri": "https://localhost:8080/"
        },
        "id": "43a1r4yXnIqf",
        "outputId": "43b771b7-a9c9-404b-96f2-bd0cbccb8dae"
      },
      "execution_count": null,
      "outputs": [
        {
          "output_type": "stream",
          "name": "stdout",
          "text": [
            "+--------------------+-----+\n",
            "|         BenefitName|count|\n",
            "+--------------------+-----+\n",
            "|Dental Check-Up f...|32528|\n",
            "|Major Dental Care...|32528|\n",
            "| Orthodontia - Adult|32528|\n",
            "| Orthodontia - Child|32528|\n",
            "|Major Dental Care...|32528|\n",
            "+--------------------+-----+\n",
            "only showing top 5 rows\n",
            "\n"
          ]
        }
      ]
    },
    {
      "cell_type": "code",
      "source": [
        "#Find out the top 5 benefits in the year 2022\n",
        "\n",
        "benefits_2022 = spark.sql(\"SELECT BenefitName, count from benefits_per_year where BusinessYear = '2022' ORDER BY count DESC\")\n",
        "benefits_2022.show(5)"
      ],
      "metadata": {
        "colab": {
          "base_uri": "https://localhost:8080/"
        },
        "id": "5g_R5euanp8b",
        "outputId": "32b75281-7d92-4853-86c4-00f82cb92a17"
      },
      "execution_count": null,
      "outputs": [
        {
          "output_type": "stream",
          "name": "stdout",
          "text": [
            "+--------------------+-----+\n",
            "|         BenefitName|count|\n",
            "+--------------------+-----+\n",
            "|   Accidental Dental|27817|\n",
            "|Dental Check-Up f...|27817|\n",
            "| Orthodontia - Child|27817|\n",
            "|Basic Dental Care...|27817|\n",
            "|Major Dental Care...|27817|\n",
            "+--------------------+-----+\n",
            "only showing top 5 rows\n",
            "\n"
          ]
        }
      ]
    },
    {
      "cell_type": "code",
      "source": [
        "#Find out the top 5 benefits in the year 2021\n",
        "\n",
        "benefits_2021 = spark.sql(\"SELECT BenefitName, count from benefits_per_year where BusinessYear = '2021' ORDER BY count DESC\")\n",
        "benefits_2021.show(5)"
      ],
      "metadata": {
        "id": "ibvLYWZ9poB7",
        "colab": {
          "base_uri": "https://localhost:8080/"
        },
        "outputId": "90906139-840b-4a2e-b3bd-0a54ed7911dc"
      },
      "execution_count": null,
      "outputs": [
        {
          "output_type": "stream",
          "name": "stdout",
          "text": [
            "+--------------------+-----+\n",
            "|         BenefitName|count|\n",
            "+--------------------+-----+\n",
            "|Basic Dental Care...|20236|\n",
            "| Orthodontia - Child|20236|\n",
            "|Routine Dental Se...|20236|\n",
            "|Dental Check-Up f...|20236|\n",
            "|Major Dental Care...|20236|\n",
            "+--------------------+-----+\n",
            "only showing top 5 rows\n",
            "\n"
          ]
        }
      ]
    },
    {
      "cell_type": "code",
      "source": [
        "#Next we want to find out which is the benefit that is most needed per state\n",
        "#Let us first explore the list of distinct states\n",
        "#We need to find for each state code, which is the maximum benefit name\n",
        "\n",
        "states = benefit.select('StateCode').filter(benefit.StateCode != \"None\").distinct().collect()\n",
        "states"
      ],
      "metadata": {
        "id": "INDnK79vpooB",
        "colab": {
          "base_uri": "https://localhost:8080/"
        },
        "outputId": "a45c05ea-a54b-4190-8478-5999e128f7e4"
      },
      "execution_count": null,
      "outputs": [
        {
          "output_type": "execute_result",
          "data": {
            "text/plain": [
              "[Row(StateCode='AZ'),\n",
              " Row(StateCode='SC'),\n",
              " Row(StateCode='LA'),\n",
              " Row(StateCode='NC'),\n",
              " Row(StateCode='MO'),\n",
              " Row(StateCode='ND'),\n",
              " Row(StateCode='MS'),\n",
              " Row(StateCode='AL'),\n",
              " Row(StateCode='IN'),\n",
              " Row(StateCode='GA'),\n",
              " Row(StateCode='FL'),\n",
              " Row(StateCode='AK'),\n",
              " Row(StateCode='OK'),\n",
              " Row(StateCode='WY'),\n",
              " Row(StateCode='KY'),\n",
              " Row(StateCode='WI'),\n",
              " Row(StateCode='DE'),\n",
              " Row(StateCode='IL'),\n",
              " Row(StateCode='TN'),\n",
              " Row(StateCode='IA'),\n",
              " Row(StateCode='TX'),\n",
              " Row(StateCode='KS'),\n",
              " Row(StateCode='AR'),\n",
              " Row(StateCode='HI'),\n",
              " Row(StateCode='OR'),\n",
              " Row(StateCode='VA'),\n",
              " Row(StateCode='NH'),\n",
              " Row(StateCode='MI'),\n",
              " Row(StateCode='NE'),\n",
              " Row(StateCode='MT'),\n",
              " Row(StateCode='ME'),\n",
              " Row(StateCode='OH'),\n",
              " Row(StateCode='NM'),\n",
              " Row(StateCode='SD'),\n",
              " Row(StateCode='WV'),\n",
              " Row(StateCode='UT')]"
            ]
          },
          "metadata": {},
          "execution_count": 14
        }
      ]
    },
    {
      "cell_type": "code",
      "source": [
        "#From above, we can see that the states contain some values with numbers as well as some wrong values like \n",
        "#HIOS-which is an insurance source name and not a state code. We need to filter these out\n",
        "\n",
        "benefits_per_state_c = spark.sql(\"SELECT * from Benefits WHERE StateCode != 'None' and StateCode REGEXP '^[A-Z]' and CHAR_LENGTH(StateCode) == 2\")\n",
        "benefits_per_state_c= benefits_per_state_c.filter(col(\"StateCode\")!='No')\n",
        "benefits_per_state_c.createOrReplaceTempView (\"benefits_per_state_c\")\n"
      ],
      "metadata": {
        "id": "dgTF1ymqpxd1"
      },
      "execution_count": null,
      "outputs": []
    },
    {
      "cell_type": "code",
      "source": [
        "#Let us understand which benefit name is used most by the population of each state\n",
        "#For this we can group by statecode\n",
        "#we get the benefit names and their count per state\n",
        "\n",
        "benefits_per_state = spark.sql(\"SELECT StateCode, BenefitName, count(BenefitName) as count from benefits_per_state_c GROUP BY BenefitName, StateCode\")\n",
        "benefits_per_state.show(60)"
      ],
      "metadata": {
        "id": "b56AMNn6p3nG",
        "colab": {
          "base_uri": "https://localhost:8080/"
        },
        "outputId": "78ce355a-477e-4445-b5ed-daab34e851fe"
      },
      "execution_count": null,
      "outputs": [
        {
          "output_type": "stream",
          "name": "stdout",
          "text": [
            "+---------+--------------------+-----+\n",
            "|StateCode|         BenefitName|count|\n",
            "+---------+--------------------+-----+\n",
            "|       AZ|     Specialty Drugs| 3495|\n",
            "|       FL|Nutritional Couns...| 6944|\n",
            "|       GA|Dental Check-Up f...| 4319|\n",
            "|       LA|Preventive Care/S...| 1503|\n",
            "|       LA|Rehabilitative Oc...| 1503|\n",
            "|       LA|    Infusion Therapy| 1503|\n",
            "|       MO|Periodontal Root ...|    8|\n",
            "|       ND|   Routine Foot Care|  631|\n",
            "|       OK|Preferred Brand D...| 2207|\n",
            "|       AL|Inpatient Physici...|  480|\n",
            "|       GA|Recementation of ...|    4|\n",
            "|       NC|        Chemotherapy| 4432|\n",
            "|       ND|Private-Duty Nursing|  631|\n",
            "|       OK|   Chiropractic Care| 2207|\n",
            "|       MO|Primary Care Visi...| 2669|\n",
            "|       ND|        Chemotherapy|  631|\n",
            "|       ND|Rehabilitative Oc...|  631|\n",
            "|       AZ|        Hearing Aids| 3495|\n",
            "|       FL|    Hospice Services| 6944|\n",
            "|       GA|             Filings|    4|\n",
            "|       ND|Laboratory Outpat...|  631|\n",
            "|       OK|            Dialysis| 2207|\n",
            "|       FL|Diabetes Care Man...| 2786|\n",
            "|       ND|Durable Medical E...|  631|\n",
            "|       ND|Applied Behavior ...|  272|\n",
            "|       AL| Orthodontia - Adult|  622|\n",
            "|       AZ|Periradicular Sur...|    8|\n",
            "|       FL|   Dental Anesthesia| 2786|\n",
            "|       MO|Periodontal and O...|    8|\n",
            "|       NC|Urgent Care Cente...| 4432|\n",
            "|       OK|        Chemotherapy| 2207|\n",
            "|       FL|Routine Eye Exam ...| 6944|\n",
            "|       FL|   Routine Foot Care| 6944|\n",
            "|       FL|    Topical Flouride|    9|\n",
            "|       FL|Eyeglasses for Ad...|  404|\n",
            "|       IN|Inpatient Hospita...|  979|\n",
            "|       IN|Abortion for Whic...|  979|\n",
            "|       LA|Mental/Behavioral...| 1503|\n",
            "|       MO|Inpatient Physici...| 2669|\n",
            "|       NC|Non-Preferred Bra...| 4432|\n",
            "|       OK|X-rays and Diagno...| 2207|\n",
            "|       SC|Routine Eye Exam ...| 1395|\n",
            "|       AK|Other Practitione...|  159|\n",
            "|       GA|Periodontal Maint...|    4|\n",
            "|       GA|Routine Eye Exam ...| 4102|\n",
            "|       IN|   Dental Anesthesia|  185|\n",
            "|       IN|Eye Glasses for A...|   72|\n",
            "|       MS|Mental/Behavioral...|  825|\n",
            "|       MS|         Extractions|    4|\n",
            "|       NC|Eye Glasses for C...| 4432|\n",
            "|       AL|Dental Check-Up f...|  622|\n",
            "|       FL|Preventive Care/S...| 6944|\n",
            "|       GA|Major Dental Care...| 4319|\n",
            "|       LA|Substance Abuse D...| 1503|\n",
            "|       LA|Reconstructive Su...| 1503|\n",
            "|       MO|Infertility Treat...| 2669|\n",
            "|       AK|X-rays and Diagno...|  159|\n",
            "|       AZ|   Accidental Dental| 3668|\n",
            "|       AZ|       Dental X-rays|    8|\n",
            "|       FL|    Specialist Visit| 6944|\n",
            "+---------+--------------------+-----+\n",
            "only showing top 60 rows\n",
            "\n"
          ]
        }
      ]
    },
    {
      "cell_type": "markdown",
      "source": [],
      "metadata": {
        "id": "pW4nyAwCtr1p"
      }
    },
    {
      "cell_type": "code",
      "source": [
        "#From the above we can see that for state AZ the count of the benefits is 3495, so 3495 people have \n",
        "#opted for an insurance plan which provides the benefit of Specialty Drugs\n",
        "#How can we find out which benefit name in state AZ was availed the most?\n",
        "#And similarly find out the most frequent benefit used in each state?\n",
        "#We will do this in the later sections of the notebook"
      ],
      "metadata": {
        "id": "IbnVGYClp5lQ"
      },
      "execution_count": null,
      "outputs": []
    },
    {
      "cell_type": "code",
      "source": [
        "#Next let us try to find out the which state uses the maximum number of benefits\n",
        "#This would tell us which state has a large number of people who avail insurance benefits\n",
        "#Total frequency of benefits used per state\n",
        "benefits_per_state.createOrReplaceTempView (\"benefits_per_state\")\n",
        "tot_benefits = spark.sql(\"SELECT StateCode, sum(count) as tot_benefits from benefits_per_state GROUP BY StateCode\")\n",
        "tot_benefits.show(60)"
      ],
      "metadata": {
        "id": "jqcHUpc_p-Ct",
        "colab": {
          "base_uri": "https://localhost:8080/"
        },
        "outputId": "a0ab4067-cb71-4444-9943-0e1b876904ee"
      },
      "execution_count": null,
      "outputs": [
        {
          "output_type": "stream",
          "name": "stdout",
          "text": [
            "+---------+------------+\n",
            "|StateCode|tot_benefits|\n",
            "+---------+------------+\n",
            "|       AZ|      248655|\n",
            "|       SC|       99142|\n",
            "|       LA|      112875|\n",
            "|       OR|       91462|\n",
            "|       VA|      139212|\n",
            "|       WY|       23357|\n",
            "|       KY|       13434|\n",
            "|       NH|       79617|\n",
            "|       MI|      195631|\n",
            "|       WI|      430068|\n",
            "|       NE|      108640|\n",
            "|       MT|       79159|\n",
            "|       NC|      313341|\n",
            "|       DE|       18919|\n",
            "|       MO|      192205|\n",
            "|       IL|      290347|\n",
            "|       ME|       21118|\n",
            "|       ND|       43412|\n",
            "|       MS|       63065|\n",
            "|       AL|       34944|\n",
            "|       IN|       72903|\n",
            "|       OH|      324651|\n",
            "|       TN|      250254|\n",
            "|       IA|       61567|\n",
            "|       NM|       22580|\n",
            "|       SD|       41372|\n",
            "|       TX|      742182|\n",
            "|       WV|       24700|\n",
            "|       GA|      299336|\n",
            "|       KS|      124430|\n",
            "|       FL|      506084|\n",
            "|       AK|       11737|\n",
            "|       AR|       70301|\n",
            "|       OK|      152993|\n",
            "|       UT|       94229|\n",
            "|       HI|       18972|\n",
            "+---------+------------+\n",
            "\n"
          ]
        }
      ]
    },
    {
      "cell_type": "code",
      "source": [
        "#Let us plot the benefit_count on the y axis and each state on the x-axis\n",
        "import matplotlib.pyplot as plt\n",
        "\n",
        "y_benefits = [val.tot_benefits for val in tot_benefits.select('tot_benefits').collect()]\n",
        "x_state = [val.StateCode for val in tot_benefits.select('StateCode').collect()]\n",
        "\n",
        "plt.figure(figsize=(15, 15))\n",
        "plt.plot(x_state, y_benefits)\n",
        "\n",
        "plt.ylabel('Total no. of Benefits')\n",
        "plt.xlabel('StateCode')\n",
        "plt.title('Number of medical Benefits availed per state')\n",
        "plt.legend(['tot_benefits'], loc='upper left')\n",
        "\n",
        "plt.show()"
      ],
      "metadata": {
        "id": "dfc2sjgFqALX",
        "colab": {
          "base_uri": "https://localhost:8080/",
          "height": 1000
        },
        "outputId": "98e47865-8e08-4b0a-b98a-a37dcceb66a1"
      },
      "execution_count": null,
      "outputs": [
        {
          "output_type": "display_data",
          "data": {
            "text/plain": [
              "<Figure size 1500x1500 with 1 Axes>"
            ],
            "image/png": "[encoded data removed]"
          },
          "metadata": {}
        }
      ]
    },
    {
      "cell_type": "code",
      "source": [
        "#This is difficult to read so let us sort in decreasing order from \n",
        "#the state which used maximum number of benefits to least\n",
        "tot_benefits.createOrReplaceTempView (\"tot_benefits\")\n",
        "tot_benefits_sort = spark.sql(\"SELECT * from tot_benefits ORDER BY tot_benefits DESC\")\n",
        "tot_benefits_sort.show(5)"
      ],
      "metadata": {
        "id": "rKQ5mD_KqDIF",
        "colab": {
          "base_uri": "https://localhost:8080/"
        },
        "outputId": "d08859b7-62d3-4e11-85ce-f18a79b6e1a8"
      },
      "execution_count": null,
      "outputs": [
        {
          "output_type": "stream",
          "name": "stdout",
          "text": [
            "+---------+------------+\n",
            "|StateCode|tot_benefits|\n",
            "+---------+------------+\n",
            "|       TX|      742182|\n",
            "|       FL|      506084|\n",
            "|       WI|      430068|\n",
            "|       OH|      324651|\n",
            "|       NC|      313341|\n",
            "+---------+------------+\n",
            "only showing top 5 rows\n",
            "\n"
          ]
        }
      ]
    },
    {
      "cell_type": "code",
      "source": [
        "#We can see that state TX(Texas) WI(Wisconsin) is using maximum number of benefits, followed by FL(Florida) and the WI(Wisconsin)\n",
        "#Let's try to visualize this\n",
        "import seaborn as sns\n",
        "f, ax = plt.subplots(figsize=(15, 15)) \n",
        "x_benefits = [val.tot_benefits for val in tot_benefits_sort.select('tot_benefits').collect()]\n",
        "y_state = [val.StateCode for val in tot_benefits_sort.select('StateCode').collect()]\n",
        "\n",
        "ax.set_yticklabels(y_state, rotation='horizontal', fontsize='large')\n",
        "g = sns.barplot(y = y_state, x= x_benefits)\n",
        "plt.ylabel('State Code')\n",
        "plt.xlabel('Total no. of Benefits')\n",
        "plt.show()"
      ],
      "metadata": {
        "id": "3gBZaK0IqGrA",
        "colab": {
          "base_uri": "https://localhost:8080/",
          "height": 1000
        },
        "outputId": "d6b25c16-6b92-4847-efe1-f429316dafe4"
      },
      "execution_count": null,
      "outputs": [
        {
          "output_type": "stream",
          "name": "stderr",
          "text": [
            "<ipython-input-21-38b32e9b471a>:8: UserWarning: FixedFormatter should only be used together with FixedLocator\n",
            "  ax.set_yticklabels(y_state, rotation='horizontal', fontsize='large')\n"
          ]
        },
        {
          "output_type": "display_data",
          "data": {
            "text/plain": [
              "<Figure size 1500x1500 with 1 Axes>"
            ],
            "image/png": "[encoded data removed]"
          },
          "metadata": {}
        }
      ]
    },
    {
      "cell_type": "code",
      "source": [
        "#Now we want to find the top benefit used in each state\n",
        "#We can get an idea of which healthcare service is most needed in each state from this\n",
        "\n",
        "window = Window.partitionBy(\"StateCode\").orderBy(col(\"count\").desc())\n",
        "step1 = benefits_per_state.withColumn(\"row\",row_number().over(window)) \\\n",
        "  .filter(col(\"row\") <=1 )\\\n",
        "  .drop(\"row\")\n",
        "step1.show()"
      ],
      "metadata": {
        "id": "dWocGVQ2qLsb",
        "colab": {
          "base_uri": "https://localhost:8080/"
        },
        "outputId": "5b09d530-16f3-417d-e67c-bbaca9cc8fcb"
      },
      "execution_count": null,
      "outputs": [
        {
          "output_type": "stream",
          "name": "stdout",
          "text": [
            "+---------+--------------------+-----+\n",
            "|StateCode|         BenefitName|count|\n",
            "+---------+--------------------+-----+\n",
            "|       AK| Orthodontia - Child|  272|\n",
            "|       AL| Orthodontia - Adult|  622|\n",
            "|       AR|   Accidental Dental|  920|\n",
            "|       AZ|   Accidental Dental| 3668|\n",
            "|       DE|Dental Check-Up f...|  327|\n",
            "|       FL|Basic Dental Care...| 7170|\n",
            "|       GA|Dental Check-Up f...| 4319|\n",
            "|       HI| Orthodontia - Child|  332|\n",
            "|       IA|Major Dental Care...|  981|\n",
            "|       IL| Orthodontia - Adult| 4291|\n",
            "|       IN|Routine Dental Se...| 1179|\n",
            "|       KS|Routine Dental Se...| 1830|\n",
            "|       KY|Major Dental Care...|  201|\n",
            "|       LA| Orthodontia - Child| 1628|\n",
            "|       ME|Major Dental Care...|  306|\n",
            "|       MI| Orthodontia - Adult| 3135|\n",
            "|       MO|   Accidental Dental| 2843|\n",
            "|       MS|   Accidental Dental|  896|\n",
            "|       MT|Major Dental Care...| 1269|\n",
            "|       NC|Routine Dental Se...| 4578|\n",
            "+---------+--------------------+-----+\n",
            "only showing top 20 rows\n",
            "\n"
          ]
        }
      ]
    },
    {
      "cell_type": "markdown",
      "source": [
        "Thus we can see that in most of the states the maximum used benefit is related to dental care/Orthodontia\n",
        "\n",
        "Thus dental care is the most sought after benefit and we can use this information to maximise profits\n",
        "\n",
        "If we inform insurance providers about this, they can design their plans accordingly"
      ],
      "metadata": {
        "id": "2yv7tNFOqOfi"
      }
    },
    {
      "cell_type": "markdown",
      "source": [
        "# Part 2: Rate Vs State"
      ],
      "metadata": {
        "id": "lK6WXzRRIkty"
      }
    },
    {
      "cell_type": "code",
      "source": [
        "rate_data = spark.read\\\n",
        "        .option(\"InferSchema\",\"true\")\\\n",
        "        .option(\"header\",\"true\")\\\n",
        "        .format(\"csv\")\\\n",
        "        .load(\"/content/drive/MyDrive/Adv Project/output1_r.csv\")"
      ],
      "metadata": {
        "id": "F90QAApeIj6O"
      },
      "execution_count": null,
      "outputs": []
    },
    {
      "cell_type": "code",
      "source": [
        "rs_data = rate_data.select(\"IndividualRate\",\"StateCode\")\n",
        "rs_data.show(5)"
      ],
      "metadata": {
        "id": "4uTNolK_Lr3N",
        "outputId": "220af5ea-96d7-466a-ff00-9f3deb62c732",
        "colab": {
          "base_uri": "https://localhost:8080/"
        }
      },
      "execution_count": null,
      "outputs": [
        {
          "output_type": "stream",
          "name": "stdout",
          "text": [
            "+--------------+---------+\n",
            "|IndividualRate|StateCode|\n",
            "+--------------+---------+\n",
            "|         51.23|       AK|\n",
            "|         51.23|       AK|\n",
            "|         51.23|       AK|\n",
            "|         59.24|       AK|\n",
            "|         59.24|       AK|\n",
            "+--------------+---------+\n",
            "only showing top 5 rows\n",
            "\n"
          ]
        }
      ]
    },
    {
      "cell_type": "markdown",
      "source": [
        "To find understand the dependence of Individual Rate and State Code we can use coorelation ratio which will compare the intra category dispersion to the overall dispersion.<br>\n",
        "Correlation ratio is defined as $ \\eta^2 = \\frac{\\sum_{x}n_x(\\bar{y_{x}}-\\bar{y})^2}{\\sum_{x,i}(y_{xi}-\\bar{y})^2}$ or the ratio between the weighted variance of the category means and the overall variance <br> \n",
        "When correlation ratio is 1 then we know that the dispersion is because of the difference between the states suggesting high dependence between Individual Rate and State.\n",
        "When correlation ratio is 0 then we know that the intra category dispersion is all the same suggestion no depence between the two columns Individual Rate and State."
      ],
      "metadata": {
        "id": "7OrG_dseMXVF"
      }
    },
    {
      "cell_type": "markdown",
      "source": [
        "We can easily calculate the overall denominator by finding variance and frequency/count and multiplying the variance with $\\text{(frequency)}^2$ as shown below"
      ],
      "metadata": {
        "id": "AjHfIHyqMTxb"
      }
    },
    {
      "cell_type": "code",
      "source": [
        "overall_variance = rs_data.select(variance(col('IndividualRate')).alias('variance')).collect()\n",
        "overall_count = rs_data.select(count(col('IndividualRate')).alias('count')).collect()\n",
        "overall_mean = rs_data.select(mean(col('IndividualRate')).alias('mean')).collect()"
      ],
      "metadata": {
        "id": "lUL_l7zkME5d"
      },
      "execution_count": null,
      "outputs": []
    },
    {
      "cell_type": "code",
      "source": [
        "overall_denominator = overall_variance[0][0]*overall_count[0][0]\n",
        "overall_denominator"
      ],
      "metadata": {
        "id": "rboozr-TMfCK",
        "outputId": "43b3f140-a306-4c2d-9958-dff53b1f5a26",
        "colab": {
          "base_uri": "https://localhost:8080/"
        }
      },
      "execution_count": null,
      "outputs": [
        {
          "output_type": "execute_result",
          "data": {
            "text/plain": [
              "2552603601728.446"
            ]
          },
          "metadata": {},
          "execution_count": 26
        }
      ]
    },
    {
      "cell_type": "markdown",
      "source": [
        "To find the numerator part we will use window functions to find the frequency and variance for each category (State)."
      ],
      "metadata": {
        "id": "oL3l3cTIMofM"
      }
    },
    {
      "cell_type": "code",
      "source": [
        "groups = Window.partitionBy(\"StateCode\").orderBy(\"IndividualRate\")\n",
        "windowspec = Window.partitionBy(\"StateCode\")"
      ],
      "metadata": {
        "id": "tAvqsoUBMxKI"
      },
      "execution_count": null,
      "outputs": []
    },
    {
      "cell_type": "code",
      "source": [
        "state_stats = rs_data.withColumn(\"row\",row_number().over(groups))\\\n",
        "  .withColumn(\"count\",count(col(\"IndividualRate\")).over(windowspec)) \\\n",
        "  .withColumn(\"mean\", mean(col(\"IndividualRate\")).over(windowspec)) \\\n",
        "  .where(col(\"row\")==1).select(\"StateCode\",\"count\",\"mean\")"
      ],
      "metadata": {
        "id": "eH-G9E22M0qb"
      },
      "execution_count": null,
      "outputs": []
    },
    {
      "cell_type": "code",
      "source": [
        "state_stats = state_stats.withColumn(\"overall_mean\",lit(overall_mean[0][0]))"
      ],
      "metadata": {
        "id": "AnMMOJNQM3hF"
      },
      "execution_count": null,
      "outputs": []
    },
    {
      "cell_type": "code",
      "source": [
        "num_part_udf = udf(lambda col1, col2, col3 : col3*(col1-col2)**2, FloatType())"
      ],
      "metadata": {
        "id": "fmBLWxVqM6Qd"
      },
      "execution_count": null,
      "outputs": []
    },
    {
      "cell_type": "code",
      "source": [
        "state_stats = state_stats.withColumn(\"numerator_part\",num_part_udf(col(\"mean\"),col(\"overall_mean\"),col(\"count\")))"
      ],
      "metadata": {
        "id": "9nYWd9wzM9IS"
      },
      "execution_count": null,
      "outputs": []
    },
    {
      "cell_type": "code",
      "source": [
        "state_stats.show()"
      ],
      "metadata": {
        "id": "5C4NWUHlM--J",
        "outputId": "4051593d-aafa-4708-fd4f-22a093681563",
        "colab": {
          "base_uri": "https://localhost:8080/"
        }
      },
      "execution_count": null,
      "outputs": [
        {
          "output_type": "stream",
          "name": "stdout",
          "text": [
            "+---------+------+------------------+-----------------+--------------+\n",
            "|StateCode| count|              mean|     overall_mean|numerator_part|\n",
            "+---------+------+------------------+-----------------+--------------+\n",
            "|       AL|147825| 348.4153670894682|416.3540904063704|   6.8231142E8|\n",
            "|       AZ| 99245| 527.5037395334792|416.3540904063704|  1.22609702E9|\n",
            "|       DE|  5202|424.94648212226105|416.3540904063704|     384059.47|\n",
            "|       IL|163908|505.95795568245825|416.3540904063704|  1.31599322E9|\n",
            "|       KY| 12699| 389.7601693046692|416.3540904063704|     8981198.0|\n",
            "|       LA| 80172|443.85434166541944|416.3540904063704|   6.0631184E7|\n",
            "|       ME| 12809|469.38443672417924|416.3540904063704|   3.6021696E7|\n",
            "|       MI|676951|152.70758121341493|416.3540904063704|  4.7054512E10|\n",
            "|       MO|146328| 492.2617412935295|416.3540904063704|   8.4313779E8|\n",
            "|       MS| 60537|447.90267753605247|416.3540904063704|   6.0253284E7|\n",
            "|       MT|121788|385.24014459552683|416.3540904063704|   1.1790024E8|\n",
            "|       NC|321759|457.28610491081326|416.3540904063704|   5.3908461E8|\n",
            "|       ND| 29631| 367.5146890081338|416.3540904063704|    7.067844E7|\n",
            "|       NE| 56610| 612.4162752163924|416.3540904063704|  2.17610982E9|\n",
            "|       NH| 50292| 521.1283844349041|416.3540904063704|   5.5208813E8|\n",
            "|       OR| 75429| 422.3702784075079|416.3540904063704|     2730116.2|\n",
            "|       SC|509184| 455.9593390012369|416.3540904063704|   7.9869363E8|\n",
            "|       VA|155760| 304.9729604519758|416.3540904063704|  1.93232051E9|\n",
            "|       WI|660021| 572.8794153367804|416.3540904063704| 1.61706312E10|\n",
            "|       WY| 24786| 530.2856330186372|416.3540904063704|  3.21732096E8|\n",
            "+---------+------+------------------+-----------------+--------------+\n",
            "only showing top 20 rows\n",
            "\n"
          ]
        }
      ]
    },
    {
      "cell_type": "code",
      "source": [
        "overall_numerator = state_stats.select(sum(col(\"numerator_part\"))).collect()\n",
        "overall_numerator = overall_numerator[0][0]\n",
        "overall_numerator"
      ],
      "metadata": {
        "id": "nsi33greNOXD",
        "outputId": "2e99b26b-a88d-4178-d358-d70301479193",
        "colab": {
          "base_uri": "https://localhost:8080/"
        }
      },
      "execution_count": null,
      "outputs": [
        {
          "output_type": "execute_result",
          "data": {
            "text/plain": [
              "114499779995.71875"
            ]
          },
          "metadata": {},
          "execution_count": 33
        }
      ]
    },
    {
      "cell_type": "code",
      "source": [
        "corr_ratio = overall_numerator/overall_denominator\n",
        "corr_ratio"
      ],
      "metadata": {
        "id": "ZXRrZQ5pNUSX",
        "outputId": "1199a451-ff8e-4923-ecf2-7e05de2a7843",
        "colab": {
          "base_uri": "https://localhost:8080/"
        }
      },
      "execution_count": null,
      "outputs": [
        {
          "output_type": "execute_result",
          "data": {
            "text/plain": [
              "0.044856075545058174"
            ]
          },
          "metadata": {},
          "execution_count": 34
        }
      ]
    },
    {
      "cell_type": "markdown",
      "source": [
        "From the above correlation ratio we can conclude that individual insurance rates aren't heavily affected by the state that the individual is from.\n",
        "\n",
        "Despite the low correlation we can still plot a heatmap showing the average rates of insurance plans for each state which can be very insightful to insurance providers (its good to know which states people on average pays the most for their insurance plans.)"
      ],
      "metadata": {
        "id": "-WajVSWZNns3"
      }
    },
    {
      "cell_type": "code",
      "source": [
        "average_rates = [val.mean for val in state_stats.select('mean').collect()]\n",
        "states = [val.StateCode for val in state_stats.select('StateCode').collect()]"
      ],
      "metadata": {
        "id": "o7eaIaihNsiy"
      },
      "execution_count": null,
      "outputs": []
    },
    {
      "cell_type": "code",
      "source": [
        "import plotly.express as px\n",
        "fig = px.choropleth(locations=states, locationmode=\"USA-states\", color=average_rates, scope=\"usa\", title=\"Average Annual Insurance Rate across States\", labels={'color':'Avg. Annual Rate in USD'})\n",
        "fig.show()"
      ],
      "metadata": {
        "id": "D-kvZSeqNwI0",
        "outputId": "496d7ed6-fd5b-42a6-a93b-82c8439e472a",
        "colab": {
          "base_uri": "https://localhost:8080/",
          "height": 542
        }
      },
      "execution_count": null,
      "outputs": [
        {
          "output_type": "display_data",
          "data": {
            "text/html": [
              "<html>\n",
              "<head><meta charset=\"utf-8\" /></head>\n",
              "<body>\n",
              "    <div>            <script src=\"https://cdnjs.cloudflare.com/ajax/libs/mathjax/2.7.5/MathJax.js?config=TeX-AMS-MML_SVG\"></script><script type=\"text/javascript\">if (window.MathJax && window.MathJax.Hub && window.MathJax.Hub.Config) {window.MathJax.Hub.Config({SVG: {font: \"STIX-Web\"}});}</script>                <script type=\"text/javascript\">window.PlotlyConfig = {MathJaxConfig: 'local'};</script>\n",
              "        <script src=\"https://cdn.plot.ly/plotly-2.18.2.min.js\"></script>                <div id=\"c81cac8f-99ca-4531-82a8-c4f9f2958e38\" class=\"plotly-graph-div\" style=\"height:525px; width:100%;\"></div>            <script type=\"text/javascript\">                                    window.PLOTLYENV=window.PLOTLYENV || {};                                    if (document.getElementById(\"c81cac8f-99ca-4531-82a8-c4f9f2958e38\")) {                    Plotly.newPlot(                        \"c81cac8f-99ca-4531-82a8-c4f9f2958e38\",                        [{\"coloraxis\":\"coloraxis\",\"geo\":\"geo\",\"hovertemplate\":\"locations=%{location}<br>Avg. Annual Rate in USD=%{z}<extra></extra>\",\"locationmode\":\"USA-states\",\"locations\":[\"AL\",\"AZ\",\"DE\",\"IL\",\"KY\",\"LA\",\"ME\",\"MI\",\"MO\",\"MS\",\"MT\",\"NC\",\"ND\",\"NE\",\"NH\",\"OR\",\"SC\",\"VA\",\"WI\",\"WY\",\"GA\",\"IA\",\"IN\",\"KS\",\"NM\",\"OH\",\"SD\",\"TN\",\"TX\",\"WV\",\"AK\",\"AR\",\"FL\",\"HI\",\"OK\",\"UT\"],\"name\":\"\",\"z\":[348.4153670894682,527.5037395334792,424.94648212226105,505.95795568245825,389.7601693046692,443.85434166541944,469.38443672417924,152.70758121341493,492.2617412935295,447.90267753605247,385.24014459552683,457.28610491081326,367.5146890081338,612.4162752163924,521.1283844349041,422.3702784075079,455.9593390012369,304.9729604519758,572.8794153367804,530.2856330186372,403.80373225499557,375.5380951236718,255.7343200574724,492.30289974594626,314.98606745097993,321.0222985931898,549.2067504835602,495.04170205058387,340.4826998404149,834.1793727470822,325.59019441340917,400.37262892078604,506.2364215781193,296.9186045751639,444.95387692537923,434.6292446672983],\"type\":\"choropleth\"}],                        {\"template\":{\"data\":{\"histogram2dcontour\":[{\"type\":\"histogram2dcontour\",\"colorbar\":{\"outlinewidth\":0,\"ticks\":\"\"},\"colorscale\":[[0.0,\"#0d0887\"],[0.1111111111111111,\"#46039f\"],[0.2222222222222222,\"#7201a8\"],[0.3333333333333333,\"#9c179e\"],[0.4444444444444444,\"#bd3786\"],[0.5555555555555556,\"#d8576b\"],[0.6666666666666666,\"#ed7953\"],[0.7777777777777778,\"#fb9f3a\"],[0.8888888888888888,\"#fdca26\"],[1.0,\"#f0f921\"]]}],\"choropleth\":[{\"type\":\"choropleth\",\"colorbar\":{\"outlinewidth\":0,\"ticks\":\"\"}}],\"histogram2d\":[{\"type\":\"histogram2d\",\"colorbar\":{\"outlinewidth\":0,\"ticks\":\"\"},\"colorscale\":[[0.0,\"#0d0887\"],[0.1111111111111111,\"#46039f\"],[0.2222222222222222,\"#7201a8\"],[0.3333333333333333,\"#9c179e\"],[0.4444444444444444,\"#bd3786\"],[0.5555555555555556,\"#d8576b\"],[0.6666666666666666,\"#ed7953\"],[0.7777777777777778,\"#fb9f3a\"],[0.8888888888888888,\"#fdca26\"],[1.0,\"#f0f921\"]]}],\"heatmap\":[{\"type\":\"heatmap\",\"colorbar\":{\"outlinewidth\":0,\"ticks\":\"\"},\"colorscale\":[[0.0,\"#0d0887\"],[0.1111111111111111,\"#46039f\"],[0.2222222222222222,\"#7201a8\"],[0.3333333333333333,\"#9c179e\"],[0.4444444444444444,\"#bd3786\"],[0.5555555555555556,\"#d8576b\"],[0.6666666666666666,\"#ed7953\"],[0.7777777777777778,\"#fb9f3a\"],[0.8888888888888888,\"#fdca26\"],[1.0,\"#f0f921\"]]}],\"heatmapgl\":[{\"type\":\"heatmapgl\",\"colorbar\":{\"outlinewidth\":0,\"ticks\":\"\"},\"colorscale\":[[0.0,\"#0d0887\"],[0.1111111111111111,\"#46039f\"],[0.2222222222222222,\"#7201a8\"],[0.3333333333333333,\"#9c179e\"],[0.4444444444444444,\"#bd3786\"],[0.5555555555555556,\"#d8576b\"],[0.6666666666666666,\"#ed7953\"],[0.7777777777777778,\"#fb9f3a\"],[0.8888888888888888,\"#fdca26\"],[1.0,\"#f0f921\"]]}],\"contourcarpet\":[{\"type\":\"contourcarpet\",\"colorbar\":{\"outlinewidth\":0,\"ticks\":\"\"}}],\"contour\":[{\"type\":\"contour\",\"colorbar\":{\"outlinewidth\":0,\"ticks\":\"\"},\"colorscale\":[[0.0,\"#0d0887\"],[0.1111111111111111,\"#46039f\"],[0.2222222222222222,\"#7201a8\"],[0.3333333333333333,\"#9c179e\"],[0.4444444444444444,\"#bd3786\"],[0.5555555555555556,\"#d8576b\"],[0.6666666666666666,\"#ed7953\"],[0.7777777777777778,\"#fb9f3a\"],[0.8888888888888888,\"#fdca26\"],[1.0,\"#f0f921\"]]}],\"surface\":[{\"type\":\"surface\",\"colorbar\":{\"outlinewidth\":0,\"ticks\":\"\"},\"colorscale\":[[0.0,\"#0d0887\"],[0.1111111111111111,\"#46039f\"],[0.2222222222222222,\"#7201a8\"],[0.3333333333333333,\"#9c179e\"],[0.4444444444444444,\"#bd3786\"],[0.5555555555555556,\"#d8576b\"],[0.6666666666666666,\"#ed7953\"],[0.7777777777777778,\"#fb9f3a\"],[0.8888888888888888,\"#fdca26\"],[1.0,\"#f0f921\"]]}],\"mesh3d\":[{\"type\":\"mesh3d\",\"colorbar\":{\"outlinewidth\":0,\"ticks\":\"\"}}],\"scatter\":[{\"fillpattern\":{\"fillmode\":\"overlay\",\"size\":10,\"solidity\":0.2},\"type\":\"scatter\"}],\"parcoords\":[{\"type\":\"parcoords\",\"line\":{\"colorbar\":{\"outlinewidth\":0,\"ticks\":\"\"}}}],\"scatterpolargl\":[{\"type\":\"scatterpolargl\",\"marker\":{\"colorbar\":{\"outlinewidth\":0,\"ticks\":\"\"}}}],\"bar\":[{\"error_x\":{\"color\":\"#2a3f5f\"},\"error_y\":{\"color\":\"#2a3f5f\"},\"marker\":{\"line\":{\"color\":\"#E5ECF6\",\"width\":0.5},\"pattern\":{\"fillmode\":\"overlay\",\"size\":10,\"solidity\":0.2}},\"type\":\"bar\"}],\"scattergeo\":[{\"type\":\"scattergeo\",\"marker\":{\"colorbar\":{\"outlinewidth\":0,\"ticks\":\"\"}}}],\"scatterpolar\":[{\"type\":\"scatterpolar\",\"marker\":{\"colorbar\":{\"outlinewidth\":0,\"ticks\":\"\"}}}],\"histogram\":[{\"marker\":{\"pattern\":{\"fillmode\":\"overlay\",\"size\":10,\"solidity\":0.2}},\"type\":\"histogram\"}],\"scattergl\":[{\"type\":\"scattergl\",\"marker\":{\"colorbar\":{\"outlinewidth\":0,\"ticks\":\"\"}}}],\"scatter3d\":[{\"type\":\"scatter3d\",\"line\":{\"colorbar\":{\"outlinewidth\":0,\"ticks\":\"\"}},\"marker\":{\"colorbar\":{\"outlinewidth\":0,\"ticks\":\"\"}}}],\"scattermapbox\":[{\"type\":\"scattermapbox\",\"marker\":{\"colorbar\":{\"outlinewidth\":0,\"ticks\":\"\"}}}],\"scatterternary\":[{\"type\":\"scatterternary\",\"marker\":{\"colorbar\":{\"outlinewidth\":0,\"ticks\":\"\"}}}],\"scattercarpet\":[{\"type\":\"scattercarpet\",\"marker\":{\"colorbar\":{\"outlinewidth\":0,\"ticks\":\"\"}}}],\"carpet\":[{\"aaxis\":{\"endlinecolor\":\"#2a3f5f\",\"gridcolor\":\"white\",\"linecolor\":\"white\",\"minorgridcolor\":\"white\",\"startlinecolor\":\"#2a3f5f\"},\"baxis\":{\"endlinecolor\":\"#2a3f5f\",\"gridcolor\":\"white\",\"linecolor\":\"white\",\"minorgridcolor\":\"white\",\"startlinecolor\":\"#2a3f5f\"},\"type\":\"carpet\"}],\"table\":[{\"cells\":{\"fill\":{\"color\":\"#EBF0F8\"},\"line\":{\"color\":\"white\"}},\"header\":{\"fill\":{\"color\":\"#C8D4E3\"},\"line\":{\"color\":\"white\"}},\"type\":\"table\"}],\"barpolar\":[{\"marker\":{\"line\":{\"color\":\"#E5ECF6\",\"width\":0.5},\"pattern\":{\"fillmode\":\"overlay\",\"size\":10,\"solidity\":0.2}},\"type\":\"barpolar\"}],\"pie\":[{\"automargin\":true,\"type\":\"pie\"}]},\"layout\":{\"autotypenumbers\":\"strict\",\"colorway\":[\"#636efa\",\"#EF553B\",\"#00cc96\",\"#ab63fa\",\"#FFA15A\",\"#19d3f3\",\"#FF6692\",\"#B6E880\",\"#FF97FF\",\"#FECB52\"],\"font\":{\"color\":\"#2a3f5f\"},\"hovermode\":\"closest\",\"hoverlabel\":{\"align\":\"left\"},\"paper_bgcolor\":\"white\",\"plot_bgcolor\":\"#E5ECF6\",\"polar\":{\"bgcolor\":\"#E5ECF6\",\"angularaxis\":{\"gridcolor\":\"white\",\"linecolor\":\"white\",\"ticks\":\"\"},\"radialaxis\":{\"gridcolor\":\"white\",\"linecolor\":\"white\",\"ticks\":\"\"}},\"ternary\":{\"bgcolor\":\"#E5ECF6\",\"aaxis\":{\"gridcolor\":\"white\",\"linecolor\":\"white\",\"ticks\":\"\"},\"baxis\":{\"gridcolor\":\"white\",\"linecolor\":\"white\",\"ticks\":\"\"},\"caxis\":{\"gridcolor\":\"white\",\"linecolor\":\"white\",\"ticks\":\"\"}},\"coloraxis\":{\"colorbar\":{\"outlinewidth\":0,\"ticks\":\"\"}},\"colorscale\":{\"sequential\":[[0.0,\"#0d0887\"],[0.1111111111111111,\"#46039f\"],[0.2222222222222222,\"#7201a8\"],[0.3333333333333333,\"#9c179e\"],[0.4444444444444444,\"#bd3786\"],[0.5555555555555556,\"#d8576b\"],[0.6666666666666666,\"#ed7953\"],[0.7777777777777778,\"#fb9f3a\"],[0.8888888888888888,\"#fdca26\"],[1.0,\"#f0f921\"]],\"sequentialminus\":[[0.0,\"#0d0887\"],[0.1111111111111111,\"#46039f\"],[0.2222222222222222,\"#7201a8\"],[0.3333333333333333,\"#9c179e\"],[0.4444444444444444,\"#bd3786\"],[0.5555555555555556,\"#d8576b\"],[0.6666666666666666,\"#ed7953\"],[0.7777777777777778,\"#fb9f3a\"],[0.8888888888888888,\"#fdca26\"],[1.0,\"#f0f921\"]],\"diverging\":[[0,\"#8e0152\"],[0.1,\"#c51b7d\"],[0.2,\"#de77ae\"],[0.3,\"#f1b6da\"],[0.4,\"#fde0ef\"],[0.5,\"#f7f7f7\"],[0.6,\"#e6f5d0\"],[0.7,\"#b8e186\"],[0.8,\"#7fbc41\"],[0.9,\"#4d9221\"],[1,\"#276419\"]]},\"xaxis\":{\"gridcolor\":\"white\",\"linecolor\":\"white\",\"ticks\":\"\",\"title\":{\"standoff\":15},\"zerolinecolor\":\"white\",\"automargin\":true,\"zerolinewidth\":2},\"yaxis\":{\"gridcolor\":\"white\",\"linecolor\":\"white\",\"ticks\":\"\",\"title\":{\"standoff\":15},\"zerolinecolor\":\"white\",\"automargin\":true,\"zerolinewidth\":2},\"scene\":{\"xaxis\":{\"backgroundcolor\":\"#E5ECF6\",\"gridcolor\":\"white\",\"linecolor\":\"white\",\"showbackground\":true,\"ticks\":\"\",\"zerolinecolor\":\"white\",\"gridwidth\":2},\"yaxis\":{\"backgroundcolor\":\"#E5ECF6\",\"gridcolor\":\"white\",\"linecolor\":\"white\",\"showbackground\":true,\"ticks\":\"\",\"zerolinecolor\":\"white\",\"gridwidth\":2},\"zaxis\":{\"backgroundcolor\":\"#E5ECF6\",\"gridcolor\":\"white\",\"linecolor\":\"white\",\"showbackground\":true,\"ticks\":\"\",\"zerolinecolor\":\"white\",\"gridwidth\":2}},\"shapedefaults\":{\"line\":{\"color\":\"#2a3f5f\"}},\"annotationdefaults\":{\"arrowcolor\":\"#2a3f5f\",\"arrowhead\":0,\"arrowwidth\":1},\"geo\":{\"bgcolor\":\"white\",\"landcolor\":\"#E5ECF6\",\"subunitcolor\":\"white\",\"showland\":true,\"showlakes\":true,\"lakecolor\":\"white\"},\"title\":{\"x\":0.05},\"mapbox\":{\"style\":\"light\"}}},\"geo\":{\"domain\":{\"x\":[0.0,1.0],\"y\":[0.0,1.0]},\"center\":{},\"scope\":\"usa\"},\"coloraxis\":{\"colorbar\":{\"title\":{\"text\":\"Avg. Annual Rate in USD\"}},\"colorscale\":[[0.0,\"#0d0887\"],[0.1111111111111111,\"#46039f\"],[0.2222222222222222,\"#7201a8\"],[0.3333333333333333,\"#9c179e\"],[0.4444444444444444,\"#bd3786\"],[0.5555555555555556,\"#d8576b\"],[0.6666666666666666,\"#ed7953\"],[0.7777777777777778,\"#fb9f3a\"],[0.8888888888888888,\"#fdca26\"],[1.0,\"#f0f921\"]]},\"legend\":{\"tracegroupgap\":0},\"title\":{\"text\":\"Average Annual Insurance Rate across States\"}},                        {\"responsive\": true}                    ).then(function(){\n",
              "                            \n",
              "var gd = document.getElementById('c81cac8f-99ca-4531-82a8-c4f9f2958e38');\n",
              "var x = new MutationObserver(function (mutations, observer) {{\n",
              "        var display = window.getComputedStyle(gd).display;\n",
              "        if (!display || display === 'none') {{\n",
              "            console.log([gd, 'removed!']);\n",
              "            Plotly.purge(gd);\n",
              "            observer.disconnect();\n",
              "        }}\n",
              "}});\n",
              "\n",
              "// Listen for the removal of the full notebook cells\n",
              "var notebookContainer = gd.closest('#notebook-container');\n",
              "if (notebookContainer) {{\n",
              "    x.observe(notebookContainer, {childList: true});\n",
              "}}\n",
              "\n",
              "// Listen for the clearing of the current output cell\n",
              "var outputEl = gd.closest('.output');\n",
              "if (outputEl) {{\n",
              "    x.observe(outputEl, {childList: true});\n",
              "}}\n",
              "\n",
              "                        })                };                            </script>        </div>\n",
              "</body>\n",
              "</html>"
            ]
          },
          "metadata": {}
        }
      ]
    },
    {
      "cell_type": "markdown",
      "source": [
        "# Part 3: Effect of Age and Health Habits on Plan Rates"
      ],
      "metadata": {
        "id": "EHMsUIccOaz6"
      }
    },
    {
      "cell_type": "code",
      "source": [
        "#Read the Plan Rates CSV\n",
        "df = spark.read\\\n",
        ".option(\"inferSchema\", \"true\")\\\n",
        ".option(\"header\", True)\\\n",
        ".csv(\"/content/drive/MyDrive/Adv Project/output1_r.csv\")"
      ],
      "metadata": {
        "id": "xM3cYbhdOk3b"
      },
      "execution_count": null,
      "outputs": []
    },
    {
      "cell_type": "code",
      "source": [
        "#Compute Average Individual Plan Rate for each age group\n",
        "age_df = df.groupBy('Age')\\\n",
        "        .agg(avg('IndividualRate').alias('Average_Individuale_Rate'))\\\n",
        "        .orderBy('Age')\n",
        "age_df.show(50)"
      ],
      "metadata": {
        "id": "qpLk20V_Ovs4",
        "outputId": "c3a1de24-b393-49c7-efc5-f6c90980a89a",
        "colab": {
          "base_uri": "https://localhost:8080/"
        }
      },
      "execution_count": null,
      "outputs": [
        {
          "output_type": "stream",
          "name": "stdout",
          "text": [
            "+----+------------------------+\n",
            "| Age|Average_Individuale_Rate|\n",
            "+----+------------------------+\n",
            "|0-14|      194.42509006271277|\n",
            "|  15|       210.1615635964313|\n",
            "|  16|      216.17061503715752|\n",
            "|  17|       222.1797862391915|\n",
            "|  18|      228.65096824322697|\n",
            "|  19|      250.11251512556436|\n",
            "|  20|       256.7971861618381|\n",
            "|  21|       291.3517479349127|\n",
            "|  22|      291.50137359449815|\n",
            "|  23|       291.6845175014519|\n",
            "|  24|       291.9062597729108|\n",
            "|  25|      293.14308492416626|\n",
            "|  26|        298.146739508799|\n",
            "|  27|      303.96094579661377|\n",
            "|  28|      313.27840076525786|\n",
            "|  29|       320.9284107798996|\n",
            "|  30|      324.80189739481136|\n",
            "|  31|       330.5472044644588|\n",
            "|  32|        336.292904177142|\n",
            "|  33|       339.8955050832942|\n",
            "|  34|       343.7361570019615|\n",
            "|  35|      345.76310253612166|\n",
            "|  36|      347.69946321518375|\n",
            "|  37|       349.6715305826453|\n",
            "|  38|      351.66183261043665|\n",
            "|  39|       355.5685940133161|\n",
            "|  40|       359.5034774290686|\n",
            "|  41|        365.343622744979|\n",
            "|  42|      370.97249102135555|\n",
            "|  43|         378.76549493052|\n",
            "|  44|       388.4925271431352|\n",
            "|  45|      399.96914737409213|\n",
            "|  46|       413.5321510760568|\n",
            "|  47|       428.7595626709412|\n",
            "|  48|      446.13716046909997|\n",
            "|  49|       463.2864967400625|\n",
            "|  50|      482.62287261375246|\n",
            "|  51|      501.69461985799796|\n",
            "|  52|       522.6796236566582|\n",
            "|  53|       543.9137723430144|\n",
            "|  54|       566.8262108738301|\n",
            "|  55|        589.913255518413|\n",
            "|  56|        614.749772218693|\n",
            "|  57|        639.838107025444|\n",
            "|  58|       666.6037418156209|\n",
            "|  59|       679.9720348371419|\n",
            "|  60|       706.4977752990566|\n",
            "|  61|       729.4091782468156|\n",
            "|  62|       744.4601902091327|\n",
            "|  63|       763.3234522197956|\n",
            "+----+------------------------+\n",
            "only showing top 50 rows\n",
            "\n"
          ]
        }
      ]
    },
    {
      "cell_type": "code",
      "source": [
        "#Rates seems to riseas age increases\n",
        "import matplotlib.pyplot as plt\n",
        "\n",
        "y_avg_rate = [val.Average_Individuale_Rate for val in age_df.select('Average_Individuale_Rate').collect()]\n",
        "x_age = [val.Age for val in age_df.select('Age').collect()]\n",
        "\n",
        "plt.figure( figsize=(15,15))\n",
        "plt.plot(x_age, y_avg_rate)\n",
        "\n",
        "plt.ylabel('Average Annual Insurance Rate (USD)')\n",
        "plt.xlabel('Age')\n",
        "plt.title('Average Annual Insurance Rate vs Age for Individuals')\n",
        "plt.legend(['Average Annual Insurance Rate (USD)'], loc='upper left')\n",
        "\n",
        "plt.show()"
      ],
      "metadata": {
        "id": "1rckdeOBOx7P",
        "outputId": "ec982fea-7750-434d-ad1d-fc27d75335a8",
        "colab": {
          "base_uri": "https://localhost:8080/",
          "height": 1000
        }
      },
      "execution_count": null,
      "outputs": [
        {
          "output_type": "display_data",
          "data": {
            "text/plain": [
              "<Figure size 1500x1500 with 1 Axes>"
            ],
            "image/png": "[encoded data removed]"
          },
          "metadata": {}
        }
      ]
    },
    {
      "cell_type": "markdown",
      "source": [
        "#Further analysis"
      ],
      "metadata": {
        "id": "Spjga5FhPrfy"
      }
    },
    {
      "cell_type": "code",
      "source": [
        "#Reading Plan Attributes CSV to perform further analysis on Plan Rates and Age \n",
        "plan_df = spark.read\\\n",
        ".option(\"inferSchema\", \"true\")\\\n",
        ".option(\"header\", True)\\\n",
        ".csv(\"/content/drive/MyDrive/Adv Project/output2_pa.csv\")"
      ],
      "metadata": {
        "id": "jmcSMksPO2ar"
      },
      "execution_count": null,
      "outputs": []
    },
    {
      "cell_type": "code",
      "source": [
        "#Select and pre-process required columns - remove state code from the plsn ID to comvbine the 2 datasets on plan ID\n",
        "plan_df = plan_df.withColumn('planid', substring('planid', 1,14))\\\n",
        "                 .select('planid', 'dentalonlyplan')\n",
        "plan_df.show()"
      ],
      "metadata": {
        "id": "7Q5A0hfIO3Sk",
        "outputId": "b4b4305c-42f2-415f-c036-3817f47dc693",
        "colab": {
          "base_uri": "https://localhost:8080/"
        }
      },
      "execution_count": null,
      "outputs": [
        {
          "output_type": "stream",
          "name": "stdout",
          "text": [
            "+--------------+--------------+\n",
            "|        planid|dentalonlyplan|\n",
            "+--------------+--------------+\n",
            "|38344AK1060002|            No|\n",
            "|21989AK0030001|           Yes|\n",
            "|21989AK0030001|           Yes|\n",
            "|21989AK0050001|           Yes|\n",
            "|21989AK0050001|           Yes|\n",
            "|21989AK0050002|           Yes|\n",
            "|21989AK0050002|           Yes|\n",
            "|21989AK0070001|           Yes|\n",
            "|21989AK0080001|           Yes|\n",
            "|21989AK0080002|           Yes|\n",
            "|21989AK0080003|           Yes|\n",
            "|21989AK0090001|           Yes|\n",
            "|21989AK0090002|           Yes|\n",
            "|21989AK0090003|           Yes|\n",
            "|21989AK0100001|           Yes|\n",
            "|21989AK0100002|           Yes|\n",
            "|21989AK0100003|           Yes|\n",
            "|21989AK0110001|           Yes|\n",
            "|21989AK0130001|           Yes|\n",
            "|21989AK0130002|           Yes|\n",
            "+--------------+--------------+\n",
            "only showing top 20 rows\n",
            "\n"
          ]
        }
      ]
    },
    {
      "cell_type": "code",
      "source": [
        "#Checking Non-Dental Plans and dental plan separately to see how the average rate looks like\n",
        "#Start with non-dental plans\n",
        "med_avg = df.join(plan_df, ['planid'])\\\n",
        "        .select(col('Age'), col('IndividualRate'), col('dentalonlyplan'),col('statecode'))\\\n",
        "        .filter(col('dentalonlyplan') == 'No')\\\n",
        "        .groupBy('age')\\\n",
        "        .agg(avg(col('IndividualRate')).alias('med_rate_avg'))\\\n",
        "        .orderBy(col('Age'))\n",
        "med_avg.show()"
      ],
      "metadata": {
        "id": "ciaWcFfxPLS8",
        "outputId": "67da2a8a-b8b6-44c1-f2f9-ea8dc0dd66dd",
        "colab": {
          "base_uri": "https://localhost:8080/"
        }
      },
      "execution_count": null,
      "outputs": [
        {
          "output_type": "stream",
          "name": "stdout",
          "text": [
            "+----+------------------+\n",
            "| age|      med_rate_avg|\n",
            "+----+------------------+\n",
            "|0-14|305.32203440257433|\n",
            "|  15|331.40536031003586|\n",
            "|  16| 341.3783644014329|\n",
            "|  17| 351.3515113864926|\n",
            "|  18|362.09155757022245|\n",
            "|  19| 372.8317589398978|\n",
            "|  20| 383.9561502170072|\n",
            "|  21| 401.2110187788282|\n",
            "|  22|401.42944373704364|\n",
            "|  23| 401.7046587334134|\n",
            "|  24|402.04539901888484|\n",
            "|  25|404.09643982657354|\n",
            "|  26|412.31716700555154|\n",
            "|  27|421.95933156845626|\n",
            "|  28|437.43562980185266|\n",
            "|  29| 450.1343440643096|\n",
            "|  30|456.48399941648336|\n",
            "|  31| 466.0082507627483|\n",
            "|  32| 475.5320940773064|\n",
            "|  33| 481.4847365581935|\n",
            "+----+------------------+\n",
            "only showing top 20 rows\n",
            "\n"
          ]
        }
      ]
    },
    {
      "cell_type": "code",
      "source": [
        "#Rates increase with age for non-dental plans\n",
        "import matplotlib.pyplot as plt\n",
        "\n",
        "y_avg_rate = [val.med_rate_avg for val in med_avg.select('med_rate_avg').collect()]\n",
        "x_age = [val.age for val in med_avg.select('age').collect()]\n",
        "\n",
        "plt.figure( figsize=(15,15))\n",
        "plt.plot(x_age, y_avg_rate)\n",
        "\n",
        "plt.ylabel('Average Annual Insurance Rate (USD)')\n",
        "plt.xlabel('Age')\n",
        "plt.title('Average Annual Insurance Rate vs Age for Individuals with Non-Dental Plans')\n",
        "plt.legend(['Average Annual Insurance Rate (USD)'], loc='upper left')\n",
        "\n",
        "plt.show()"
      ],
      "metadata": {
        "id": "gkM-q7WKPOT8",
        "outputId": "a209923d-29c8-4bc3-eea1-262ea3f50552",
        "colab": {
          "base_uri": "https://localhost:8080/",
          "height": 1000
        }
      },
      "execution_count": null,
      "outputs": [
        {
          "output_type": "display_data",
          "data": {
            "text/plain": [
              "<Figure size 1500x1500 with 1 Axes>"
            ],
            "image/png": "[encoded data removed]"
          },
          "metadata": {}
        }
      ]
    },
    {
      "cell_type": "code",
      "source": [
        "#Check the individual rates state-wise\n",
        "med = df.join(plan_df, ['planid'])\\\n",
        "        .select(col('Age') ,col('statecode'), col('IndividualRate'), col('dentalonlyplan'))\\\n",
        "        .filter(col('dentalonlyplan') == 'No')\\\n",
        "        .orderBy(col('Age'), col('statecode'))\n",
        "med.show()\n"
      ],
      "metadata": {
        "id": "KxEZWRWrP-Ox",
        "outputId": "58e6c2f6-edd0-435f-e115-c0fc78038980",
        "colab": {
          "base_uri": "https://localhost:8080/"
        }
      },
      "execution_count": null,
      "outputs": [
        {
          "output_type": "stream",
          "name": "stdout",
          "text": [
            "+----+---------+--------------+--------------+\n",
            "| Age|statecode|IndividualRate|dentalonlyplan|\n",
            "+----+---------+--------------+--------------+\n",
            "|0-14|       AK|         355.0|            No|\n",
            "|0-14|       AK|         355.0|            No|\n",
            "|0-14|       AK|         364.0|            No|\n",
            "|0-14|       AK|         373.0|            No|\n",
            "|0-14|       AK|         373.0|            No|\n",
            "|0-14|       AK|         364.0|            No|\n",
            "|0-14|       AK|         355.0|            No|\n",
            "|0-14|       AK|         373.0|            No|\n",
            "|0-14|       AK|         355.0|            No|\n",
            "|0-14|       AK|         373.0|            No|\n",
            "|0-14|       AK|         355.0|            No|\n",
            "|0-14|       AK|         373.0|            No|\n",
            "|0-14|       AK|         373.0|            No|\n",
            "|0-14|       AK|         355.0|            No|\n",
            "|0-14|       AK|         364.0|            No|\n",
            "|0-14|       AK|         373.0|            No|\n",
            "|0-14|       AK|         364.0|            No|\n",
            "|0-14|       AK|         355.0|            No|\n",
            "|0-14|       AK|         373.0|            No|\n",
            "|0-14|       AK|         355.0|            No|\n",
            "+----+---------+--------------+--------------+\n",
            "only showing top 20 rows\n",
            "\n"
          ]
        }
      ]
    },
    {
      "cell_type": "code",
      "source": [
        "#Find out correlation between age and plan rates for non-dental plans\n",
        "#substring of 0-20 to 20\n",
        "#convert string to int using cast\n",
        "med = med.withColumn(\"Age\", when(med.Age == \"0-20\",\"20\")\n",
        "                           .when(med.Age == \"65 and over\", \"65\" )\n",
        "                           .otherwise(med.Age))\\\n",
        "         .filter( med.Age != \"Family Option\" )\n",
        "\n",
        "med = med.withColumn( \"Age\", col(\"Age\").cast(\"integer\"))\n"
      ],
      "metadata": {
        "id": "34mlUzQjQVgM"
      },
      "execution_count": null,
      "outputs": []
    },
    {
      "cell_type": "code",
      "source": [
        "med.stat.corr(\"Age\", \"IndividualRate\")\n",
        "#We get a decent correlation"
      ],
      "metadata": {
        "id": "0LXNmsP9QiUa",
        "outputId": "337f0c4a-db15-4fb1-9475-017b48e3327e",
        "colab": {
          "base_uri": "https://localhost:8080/"
        }
      },
      "execution_count": null,
      "outputs": [
        {
          "output_type": "execute_result",
          "data": {
            "text/plain": [
              "0.5797855899844946"
            ]
          },
          "metadata": {},
          "execution_count": 46
        }
      ]
    },
    {
      "cell_type": "code",
      "source": [
        "med_avg = med_avg.withColumn(\"age\", when(med_avg.age == \"0-20\",\"20\") \n",
        "                           .when(med_avg.age == \"65 and over\", \"65\" )\n",
        "                           .otherwise(med_avg.age))\\\n",
        "         .filter( med_avg.age != \"Family Option\" )\n",
        "med_avg = med_avg.withColumn( \"age\", col(\"age\").cast(\"integer\"))\n",
        "\n",
        "med_avg.stat.corr(\"age\", \"med_rate_avg\" )"
      ],
      "metadata": {
        "id": "wZ81IwTwQnTF",
        "outputId": "28e18820-db2d-48da-cdbd-cfd4ceb5aa28",
        "colab": {
          "base_uri": "https://localhost:8080/"
        }
      },
      "execution_count": null,
      "outputs": [
        {
          "output_type": "execute_result",
          "data": {
            "text/plain": [
              "0.707746752056837"
            ]
          },
          "metadata": {},
          "execution_count": 47
        }
      ]
    },
    {
      "cell_type": "code",
      "source": [
        "#Checking Dental Plans\n",
        "den_avg = df.join(plan_df, ['planid'])\\\n",
        "        .select(col('Age'), col('IndividualRate'), col('dentalonlyplan'),col('statecode'))\\\n",
        "        .filter(col('dentalonlyplan') == 'Yes')\\\n",
        "        .groupBy('age')\\\n",
        "        .agg(avg(col('IndividualRate')).alias('den_rate_avg'))\\\n",
        "        .orderBy(col('Age'))\n",
        "den_avg.show()"
      ],
      "metadata": {
        "id": "ZsQQgYC9QqyP",
        "outputId": "ec351217-8d22-412d-8475-f61278e9f5e8",
        "colab": {
          "base_uri": "https://localhost:8080/"
        }
      },
      "execution_count": null,
      "outputs": [
        {
          "output_type": "stream",
          "name": "stdout",
          "text": [
            "+----+------------------+\n",
            "| age|      den_rate_avg|\n",
            "+----+------------------+\n",
            "|0-14|  28.3193414254033|\n",
            "|  15|28.405743403683445|\n",
            "|  16|28.405743403683434|\n",
            "|  17|28.405743403683445|\n",
            "|  18|28.405743403683434|\n",
            "|  19|59.525449021428734|\n",
            "|  20| 59.46699855955117|\n",
            "|  21| 147.9057753098459|\n",
            "|  22|147.95649509117354|\n",
            "|  23|148.00882660059546|\n",
            "|  24|148.06284122138405|\n",
            "|  25|148.11188501983946|\n",
            "|  26| 148.3699460692515|\n",
            "|  27|148.43407027221178|\n",
            "|  28| 148.4929457398658|\n",
            "|  29| 148.5518102935479|\n",
            "|  30| 148.7098866815154|\n",
            "|  31|148.77037918676334|\n",
            "|  32| 148.8325061329649|\n",
            "|  33|148.89625247653882|\n",
            "+----+------------------+\n",
            "only showing top 20 rows\n",
            "\n"
          ]
        }
      ]
    },
    {
      "cell_type": "code",
      "source": [
        "import matplotlib.pyplot as plt\n",
        "\n",
        "y_avg_rate = [val.den_rate_avg for val in den_avg.select('den_rate_avg').collect()]\n",
        "x_age = [val.age for val in den_avg.select('age').collect()]\n",
        "\n",
        "plt.figure( figsize=(20,20))\n",
        "plt.plot(x_age, y_avg_rate)\n",
        "\n",
        "plt.ylabel('Average Annual Insurance Rate (USD)')\n",
        "plt.xlabel('Age')\n",
        "plt.title('Average Annual Insurance Rate vs Age for Individuals with Dental Plans')\n",
        "plt.legend(['Average Annual Insurance Rate (USD)'], loc='upper left')\n",
        "\n",
        "plt.show()"
      ],
      "metadata": {
        "id": "JyYjzatGQtK9",
        "outputId": "3c6091ff-7e9d-4371-8337-86bba573b6d0",
        "colab": {
          "base_uri": "https://localhost:8080/",
          "height": 1000
        }
      },
      "execution_count": null,
      "outputs": [
        {
          "output_type": "display_data",
          "data": {
            "text/plain": [
              "<Figure size 2000x2000 with 1 Axes>"
            ],
            "image/png": "[encoded data removed]"
          },
          "metadata": {}
        }
      ]
    },
    {
      "cell_type": "code",
      "source": [
        "den = df.join(plan_df, ['planid'])\\\n",
        "        .select(col('Age') ,col('statecode'), col('IndividualRate'), col('dentalonlyplan'))\\\n",
        "        .filter(col('dentalonlyplan') == 'Yes')\\\n",
        "        .orderBy(col('Age'), col('statecode'))\n",
        "den.show()"
      ],
      "metadata": {
        "id": "_mdmuy3JQwAF",
        "outputId": "9223feb3-ecc7-465e-a102-9b3615de7587",
        "colab": {
          "base_uri": "https://localhost:8080/"
        }
      },
      "execution_count": null,
      "outputs": [
        {
          "output_type": "stream",
          "name": "stdout",
          "text": [
            "+----+---------+--------------+--------------+\n",
            "| Age|statecode|IndividualRate|dentalonlyplan|\n",
            "+----+---------+--------------+--------------+\n",
            "|0-14|       AK|          61.0|           Yes|\n",
            "|0-14|       AK|          55.0|           Yes|\n",
            "|0-14|       AK|          61.0|           Yes|\n",
            "|0-14|       AK|          61.0|           Yes|\n",
            "|0-14|       AK|          61.0|           Yes|\n",
            "|0-14|       AK|          61.0|           Yes|\n",
            "|0-14|       AK|          55.0|           Yes|\n",
            "|0-14|       AK|          61.0|           Yes|\n",
            "|0-14|       AK|          55.0|           Yes|\n",
            "|0-14|       AK|          61.0|           Yes|\n",
            "|0-14|       AK|          55.0|           Yes|\n",
            "|0-14|       AK|          61.0|           Yes|\n",
            "|0-14|       AK|          55.0|           Yes|\n",
            "|0-14|       AK|          61.0|           Yes|\n",
            "|0-14|       AK|          55.0|           Yes|\n",
            "|0-14|       AK|          61.0|           Yes|\n",
            "|0-14|       AK|          55.0|           Yes|\n",
            "|0-14|       AK|          55.0|           Yes|\n",
            "|0-14|       AK|          55.0|           Yes|\n",
            "|0-14|       AK|          61.0|           Yes|\n",
            "+----+---------+--------------+--------------+\n",
            "only showing top 20 rows\n",
            "\n"
          ]
        }
      ]
    },
    {
      "cell_type": "code",
      "source": [
        "#Find correlation between age and plan rates for dental plans\n",
        "den = den.withColumn(\"Age\", when(den.Age == \"0-20\",\"20\") \n",
        "                           .when(den.Age == \"65 and over\", \"65\" )\n",
        "                           .otherwise(den.Age))\\\n",
        "         .filter( den.Age != \"Family Option\" )\n",
        "\n",
        "den = den.withColumn( \"Age\", col(\"Age\").cast(\"integer\"))\n",
        "den.stat.corr(\"Age\", \"IndividualRate\")\n",
        "#We can see that the correlation of dental plans with age is not very great, thus plan rates not age dependent"
      ],
      "metadata": {
        "id": "-0IYu-tWQ2nQ",
        "outputId": "6c406be1-ca9c-4678-a244-a431e972c19a",
        "colab": {
          "base_uri": "https://localhost:8080/"
        }
      },
      "execution_count": null,
      "outputs": [
        {
          "output_type": "execute_result",
          "data": {
            "text/plain": [
              "0.025798020420670073"
            ]
          },
          "metadata": {},
          "execution_count": 51
        }
      ]
    },
    {
      "cell_type": "code",
      "source": [
        "den_avg = den_avg.withColumn(\"age\", when(den_avg.age == \"0-20\",\"20\") \n",
        "                           .when(den_avg.age == \"65 and over\", \"65\" ) \n",
        "                           .otherwise(den_avg.age))\\\n",
        "         .filter( den_avg.age != \"Family Option\" )\n",
        "den_avg = den_avg.withColumn( \"age\", col(\"age\").cast(\"integer\"))\n",
        "\n",
        "den_avg.stat.corr(\"age\", \"den_rate_avg\" )"
      ],
      "metadata": {
        "id": "24jhYs_OQ46w",
        "outputId": "8c51530a-84fb-4cd7-ee37-b730219833a3",
        "colab": {
          "base_uri": "https://localhost:8080/"
        }
      },
      "execution_count": null,
      "outputs": [
        {
          "output_type": "execute_result",
          "data": {
            "text/plain": [
              "0.5888660908041548"
            ]
          },
          "metadata": {},
          "execution_count": 52
        }
      ]
    },
    {
      "cell_type": "code",
      "source": [
        "#Analysing based on Health Habits\n",
        "hdf = df.select(col('Age'), col('Tobacco'), col('IndividualRate'), col('IndividualTobaccoRate'))\n",
        "hdf.show()"
      ],
      "metadata": {
        "id": "q-ThXbl5Q54X",
        "outputId": "7d533e60-a141-46f0-e555-2c919783a6a2",
        "colab": {
          "base_uri": "https://localhost:8080/"
        }
      },
      "execution_count": null,
      "outputs": [
        {
          "output_type": "stream",
          "name": "stdout",
          "text": [
            "+-------------+-------+--------------+---------------------+\n",
            "|          Age|Tobacco|IndividualRate|IndividualTobaccoRate|\n",
            "+-------------+-------+--------------+---------------------+\n",
            "|Family Option|   null|         51.23|                 null|\n",
            "|Family Option|   null|         51.23|                 null|\n",
            "|Family Option|   null|         51.23|                 null|\n",
            "|Family Option|   null|         59.24|                 null|\n",
            "|Family Option|   null|         59.24|                 null|\n",
            "|Family Option|   null|         59.24|                 null|\n",
            "|Family Option|   null|         63.59|                 null|\n",
            "|Family Option|   null|         63.59|                 null|\n",
            "|Family Option|   null|         63.59|                 null|\n",
            "|Family Option|   null|         47.64|                 null|\n",
            "|Family Option|   null|         47.64|                 null|\n",
            "|Family Option|   null|         47.64|                 null|\n",
            "|Family Option|   null|         55.09|                 null|\n",
            "|Family Option|   null|         55.09|                 null|\n",
            "|Family Option|   null|         55.09|                 null|\n",
            "|Family Option|   null|         62.11|                 null|\n",
            "|Family Option|   null|         62.11|                 null|\n",
            "|Family Option|   null|         62.11|                 null|\n",
            "|Family Option|   null|         45.16|                 null|\n",
            "|Family Option|   null|         45.16|                 null|\n",
            "+-------------+-------+--------------+---------------------+\n",
            "only showing top 20 rows\n",
            "\n"
          ]
        }
      ]
    },
    {
      "cell_type": "code",
      "source": [
        "#Encode No Preference for Tobacco as 0 and a preference as 1\n",
        "#Fill IndividualTobaccoRate as 0 when there is no preference\n",
        "hdfp = hdf.withColumn(\"Tobacco\", when(hdf.Tobacco == \"No Preference\",0) \\\n",
        "      .otherwise(1))\n",
        "hdfp = hdfp.na.fill(0)\n",
        "hdfp.show()"
      ],
      "metadata": {
        "id": "8cYnYSXwRADY",
        "outputId": "d8a8fde0-bcdc-4063-deca-ebcf241497ce",
        "colab": {
          "base_uri": "https://localhost:8080/"
        }
      },
      "execution_count": null,
      "outputs": [
        {
          "output_type": "stream",
          "name": "stdout",
          "text": [
            "+-------------+-------+--------------+---------------------+\n",
            "|          Age|Tobacco|IndividualRate|IndividualTobaccoRate|\n",
            "+-------------+-------+--------------+---------------------+\n",
            "|Family Option|      1|         51.23|                  0.0|\n",
            "|Family Option|      1|         51.23|                  0.0|\n",
            "|Family Option|      1|         51.23|                  0.0|\n",
            "|Family Option|      1|         59.24|                  0.0|\n",
            "|Family Option|      1|         59.24|                  0.0|\n",
            "|Family Option|      1|         59.24|                  0.0|\n",
            "|Family Option|      1|         63.59|                  0.0|\n",
            "|Family Option|      1|         63.59|                  0.0|\n",
            "|Family Option|      1|         63.59|                  0.0|\n",
            "|Family Option|      1|         47.64|                  0.0|\n",
            "|Family Option|      1|         47.64|                  0.0|\n",
            "|Family Option|      1|         47.64|                  0.0|\n",
            "|Family Option|      1|         55.09|                  0.0|\n",
            "|Family Option|      1|         55.09|                  0.0|\n",
            "|Family Option|      1|         55.09|                  0.0|\n",
            "|Family Option|      1|         62.11|                  0.0|\n",
            "|Family Option|      1|         62.11|                  0.0|\n",
            "|Family Option|      1|         62.11|                  0.0|\n",
            "|Family Option|      1|         45.16|                  0.0|\n",
            "|Family Option|      1|         45.16|                  0.0|\n",
            "+-------------+-------+--------------+---------------------+\n",
            "only showing top 20 rows\n",
            "\n"
          ]
        }
      ]
    },
    {
      "cell_type": "code",
      "source": [
        "tb = hdfp.filter(col('IndividualTobaccoRate') != 0)\n",
        "tb.show()"
      ],
      "metadata": {
        "id": "hCOD6lW2R-Bl",
        "outputId": "f1fdf945-e33c-413c-bdc7-6f08173bcd26",
        "colab": {
          "base_uri": "https://localhost:8080/"
        }
      },
      "execution_count": null,
      "outputs": [
        {
          "output_type": "stream",
          "name": "stdout",
          "text": [
            "+----+-------+--------------+---------------------+\n",
            "| Age|Tobacco|IndividualRate|IndividualTobaccoRate|\n",
            "+----+-------+--------------+---------------------+\n",
            "|0-14|      1|         355.0|                355.0|\n",
            "|  15|      1|         387.0|                387.0|\n",
            "|  16|      1|         399.0|                399.0|\n",
            "|  17|      1|         411.0|                411.0|\n",
            "|  18|      1|         424.0|                424.0|\n",
            "|  19|      1|         437.0|                437.0|\n",
            "|  20|      1|         450.0|                450.0|\n",
            "|  21|      1|         464.0|                499.0|\n",
            "|  22|      1|         464.0|                499.0|\n",
            "|  23|      1|         464.0|                499.0|\n",
            "|  24|      1|         464.0|                499.0|\n",
            "|  25|      1|         466.0|                501.0|\n",
            "|  26|      1|         475.0|                511.0|\n",
            "|  27|      1|         486.0|                523.0|\n",
            "|  28|      1|         504.0|                542.0|\n",
            "|  29|      1|         519.0|                558.0|\n",
            "|  30|      1|         527.0|                566.0|\n",
            "|  31|      1|         538.0|                578.0|\n",
            "|  32|      1|         549.0|                590.0|\n",
            "|  33|      1|         556.0|                598.0|\n",
            "+----+-------+--------------+---------------------+\n",
            "only showing top 20 rows\n",
            "\n"
          ]
        }
      ]
    },
    {
      "cell_type": "code",
      "source": [
        "tb.stat.corr('IndividualTobaccoRate', 'IndividualRate')\n",
        "#We have a great correlation with IndividualTobaccoRate and IndividualRate"
      ],
      "metadata": {
        "id": "U8rQx1UjSA4s",
        "outputId": "7a9b738e-d576-4c10-c07b-45653d98b299",
        "colab": {
          "base_uri": "https://localhost:8080/"
        }
      },
      "execution_count": null,
      "outputs": [
        {
          "output_type": "execute_result",
          "data": {
            "text/plain": [
              "0.9914307277254333"
            ]
          },
          "metadata": {},
          "execution_count": 56
        }
      ]
    },
    {
      "cell_type": "markdown",
      "source": [
        "#Part 4: Distribution of Rates across Insurance Issuers\n"
      ],
      "metadata": {
        "id": "g9oezG8HVWh5"
      }
    },
    {
      "cell_type": "code",
      "source": [
        "groups = Window.partitionBy(\"IssuerId\").orderBy(\"IndividualRate\")\n",
        "windowspec = Window.partitionBy(\"IssuerId\")"
      ],
      "metadata": {
        "id": "ABI7PO4CVdSW"
      },
      "execution_count": null,
      "outputs": []
    },
    {
      "cell_type": "code",
      "source": [
        "ipdata = rate_data.select(\"IssuerId\",\"IndividualRate\")"
      ],
      "metadata": {
        "id": "iv7V7SJLV13o"
      },
      "execution_count": null,
      "outputs": []
    },
    {
      "cell_type": "code",
      "source": [
        "ipdata_stats = ipdata.withColumn(\"row\",row_number().over(groups))\\\n",
        "  .withColumn(\"count\",count(col(\"IndividualRate\")).over(windowspec)) \\\n",
        "  .withColumn(\"mean\", mean(col(\"IndividualRate\")).over(windowspec)) \\\n",
        "  .withColumn(\"stddev\",stddev(col(\"IndividualRate\")).over(windowspec))\\\n",
        "  .where(col(\"row\")==1).select(\"IssuerId\",\"count\",\"mean\",\"stddev\")"
      ],
      "metadata": {
        "id": "1ZP1iBrbV4Qn"
      },
      "execution_count": null,
      "outputs": []
    },
    {
      "cell_type": "code",
      "source": [
        "ipdata_stats.show()"
      ],
      "metadata": {
        "colab": {
          "base_uri": "https://localhost:8080/"
        },
        "id": "5-9xwfROV6yb",
        "outputId": "9faec30d-62ea-42fe-8bab-f4bce18aa5c7"
      },
      "execution_count": null,
      "outputs": [
        {
          "output_type": "stream",
          "name": "stdout",
          "text": [
            "+--------+------+------------------+------------------+\n",
            "|IssuerId| count|              mean|            stddev|\n",
            "+--------+------+------------------+------------------+\n",
            "|   10046|   612|39.632973856209055|7.8820138108567415|\n",
            "|   10091| 12291| 414.5151737043365|330.36098483733423|\n",
            "|   10207|  2397| 579.2262745098029| 290.3995309795945|\n",
            "|   11269|  6732| 842.9634640522881| 383.1836184616705|\n",
            "|   11469|   816|22.133125000000025| 6.524817909336631|\n",
            "|   11512| 41310| 602.7657460663286| 299.4378585318441|\n",
            "|   12513|  1530|33.530163398692665|18.106716600273227|\n",
            "|   12538|  7956|21.028115887379858| 4.212323282521675|\n",
            "|   13591|   765| 711.4917647058821| 320.7314193859185|\n",
            "|   13711|  5610| 31.98844919786009| 9.181366418150187|\n",
            "|   14624|  3468| 559.5337716262953|271.18679742286764|\n",
            "|   15105|  9129| 468.2784499945218|217.37939513436945|\n",
            "|   15560|318801| 61.63480619571704|159.03546465014944|\n",
            "|   15724|  2856| 524.0087114845937|234.87143984307878|\n",
            "|   15833| 46767|15.697101802553242| 3.594509310813663|\n",
            "|   16064|  7344| 20.16316993464015|7.3829070525710945|\n",
            "|   16842|216444| 851.0198381105521| 459.1774661035538|\n",
            "|   16985| 12240|  526.249230392157|251.36726612447154|\n",
            "|   17100|  4284| 902.6734803921569|350.80340149537585|\n",
            "|   17414|  2550| 617.3316470588233|  313.491513593601|\n",
            "+--------+------+------------------+------------------+\n",
            "only showing top 20 rows\n",
            "\n"
          ]
        }
      ]
    },
    {
      "cell_type": "markdown",
      "source": [
        "With the above information we have have effectively calculated the dispersion (using standard deviation) of plan rates across each of the issuers which tells us how the data is distributed in each of the issuerid groups."
      ],
      "metadata": {
        "id": "Ehc9583iWAZ_"
      }
    },
    {
      "cell_type": "code",
      "source": [
        "ipdata_stats.sort(col(\"stddev\").desc()).show(5)"
      ],
      "metadata": {
        "colab": {
          "base_uri": "https://localhost:8080/"
        },
        "id": "LEDCG4dyV8oL",
        "outputId": "92c4073e-e22b-48c4-9898-b31c187447b2"
      },
      "execution_count": null,
      "outputs": [
        {
          "output_type": "stream",
          "name": "stdout",
          "text": [
            "+--------+-----+------------------+------------------+\n",
            "|IssuerId|count|              mean|            stddev|\n",
            "+--------+-----+------------------+------------------+\n",
            "|   86830| 2142| 4327.676470588235| 4940.810761905129|\n",
            "|   48121|51204| 2095.672988828998|3625.2822884538127|\n",
            "|   74483| 7701|2342.7568406700443|3590.8703037611435|\n",
            "|   40411| 2448|  9020.72794117647|2967.8525781354238|\n",
            "|   52129| 1989| 9021.202111613877|2966.5538165783437|\n",
            "+--------+-----+------------------+------------------+\n",
            "only showing top 5 rows\n",
            "\n"
          ]
        }
      ]
    },
    {
      "cell_type": "markdown",
      "source": [
        "The above statistics shows us issuers which have a very diverse portfolio based on standard deviation"
      ],
      "metadata": {
        "id": "DUYPP-x2WIl6"
      }
    },
    {
      "cell_type": "markdown",
      "source": [
        "## Part V - Predicting Individual Insurance Rate"
      ],
      "metadata": {
        "id": "znvmWz4YWKaS"
      }
    },
    {
      "cell_type": "code",
      "source": [
        "rate = spark.read\\\n",
        "        .option(\"InferSchema\",\"true\")\\\n",
        "        .option(\"header\",\"true\")\\\n",
        "        .format(\"csv\")\\\n",
        "        .load(\"/content/drive/MyDrive/Adv Project/output1_r.csv\")"
      ],
      "metadata": {
        "id": "IJjIlTGvWDig"
      },
      "execution_count": null,
      "outputs": []
    },
    {
      "cell_type": "code",
      "source": [
        "#Filter million dollar dataset from rate table\n",
        "rate = rate.filter(col(\"IndividualRate\")!= 99999)"
      ],
      "metadata": {
        "id": "r1F60AwXWldY"
      },
      "execution_count": null,
      "outputs": []
    },
    {
      "cell_type": "code",
      "source": [
        "#Filter all null values\n",
        "rate = rate.where(col(\"IndividualTobaccoRate\").isNotNull())"
      ],
      "metadata": {
        "id": "KqRkhaNeWuSO"
      },
      "execution_count": null,
      "outputs": []
    },
    {
      "cell_type": "code",
      "source": [
        "rate = rate.withColumn(\"Age\", when(rate.Age == \"0-20\",\"20\")\n",
        "                           .when(rate.Age == \"65 and over\", \"65\" )\n",
        "                           .otherwise(rate.Age))\\\n",
        "         .filter( rate.Age != \"Family Option\" )\n",
        "rate = rate.withColumn( \"Age\", col(\"Age\").cast(\"integer\"))"
      ],
      "metadata": {
        "id": "zdavC5bBWwgF"
      },
      "execution_count": null,
      "outputs": []
    },
    {
      "cell_type": "code",
      "source": [
        "rate = rate.where(col(\"Age\").isNotNull())"
      ],
      "metadata": {
        "id": "UHVDYx5qW48A"
      },
      "execution_count": null,
      "outputs": []
    },
    {
      "cell_type": "code",
      "source": [
        "features = [\"Age\",\"IndividualTobaccoRate\"]\n",
        "label = [\"IndividualRate\"]\n",
        "all_columns = features+label"
      ],
      "metadata": {
        "id": "aenTu7vnW7zw"
      },
      "execution_count": null,
      "outputs": []
    },
    {
      "cell_type": "code",
      "source": [
        "rate = rate.select(all_columns)"
      ],
      "metadata": {
        "id": "zOy2pCB5W-EV"
      },
      "execution_count": null,
      "outputs": []
    },
    {
      "cell_type": "code",
      "source": [
        "for column in rate.columns:\n",
        "    if (rate.where(col(column).isNull()).count() >0):\n",
        "        print(column)"
      ],
      "metadata": {
        "id": "vVI2s_37XAH1"
      },
      "execution_count": null,
      "outputs": []
    },
    {
      "cell_type": "markdown",
      "source": [
        "The pipeline includes a vector assembler which will convert all the feature fields into a vector which builds the feature vector for the linear regression model"
      ],
      "metadata": {
        "id": "dnRZIc_AXHM-"
      }
    },
    {
      "cell_type": "code",
      "source": [
        "from pyspark.ml.feature import VectorAssembler\n",
        "\n",
        "stages = []\n",
        "assembler = VectorAssembler(inputCols=features, outputCol=\"features\")\n",
        "stages += [assembler]"
      ],
      "metadata": {
        "id": "FXU6-hU8XIMm"
      },
      "execution_count": null,
      "outputs": []
    },
    {
      "cell_type": "code",
      "source": [
        "from pyspark.ml import Pipeline\n",
        "pipeline = Pipeline(stages = stages)\n",
        "pipelineModel = pipeline.fit(rate)\n",
        "rate = pipelineModel.transform(rate)\n",
        "selectedCols = ['features'] + all_columns\n",
        "df = rate.select(selectedCols)\n",
        "df.printSchema()"
      ],
      "metadata": {
        "colab": {
          "base_uri": "https://localhost:8080/"
        },
        "id": "06S_G6NMXLQ2",
        "outputId": "20f7fce9-b620-463d-ae67-062344a0da8c"
      },
      "execution_count": null,
      "outputs": [
        {
          "output_type": "stream",
          "name": "stdout",
          "text": [
            "root\n",
            " |-- features: vector (nullable = true)\n",
            " |-- Age: integer (nullable = true)\n",
            " |-- IndividualTobaccoRate: double (nullable = true)\n",
            " |-- IndividualRate: double (nullable = true)\n",
            "\n"
          ]
        }
      ]
    },
    {
      "cell_type": "code",
      "source": [
        "train, test = df.randomSplit([0.7, 0.3], seed = 2022)\n",
        "print(\"Training Dataset Count: \" + str(train.count()))\n",
        "print(\"Test Dataset Count: \" + str(test.count()))"
      ],
      "metadata": {
        "colab": {
          "base_uri": "https://localhost:8080/"
        },
        "id": "z6p0YpHoXNs3",
        "outputId": "6afd1354-3ec3-488b-b342-eb24d2763b12"
      },
      "execution_count": null,
      "outputs": [
        {
          "output_type": "stream",
          "name": "stdout",
          "text": [
            "Training Dataset Count: 2325834\n",
            "Test Dataset Count: 997199\n"
          ]
        }
      ]
    },
    {
      "cell_type": "code",
      "source": [
        "train.select(\"features\").show()"
      ],
      "metadata": {
        "colab": {
          "base_uri": "https://localhost:8080/"
        },
        "id": "qBI0DbLoX3rZ",
        "outputId": "1050f104-72f7-4604-8816-cacdb2ac010c"
      },
      "execution_count": null,
      "outputs": [
        {
          "output_type": "stream",
          "name": "stdout",
          "text": [
            "+-------------+\n",
            "|     features|\n",
            "+-------------+\n",
            "| [15.0,128.2]|\n",
            "|[15.0,133.14]|\n",
            "|[15.0,134.23]|\n",
            "| [15.0,140.7]|\n",
            "|[15.0,143.79]|\n",
            "|[15.0,145.39]|\n",
            "|[15.0,148.32]|\n",
            "|[15.0,148.37]|\n",
            "|[15.0,148.52]|\n",
            "|[15.0,148.52]|\n",
            "|[15.0,148.52]|\n",
            "|[15.0,156.34]|\n",
            "|[15.0,157.53]|\n",
            "|[15.0,158.84]|\n",
            "|[15.0,160.54]|\n",
            "|[15.0,160.87]|\n",
            "|[15.0,161.03]|\n",
            "|[15.0,161.48]|\n",
            "|[15.0,167.51]|\n",
            "|[15.0,167.78]|\n",
            "+-------------+\n",
            "only showing top 20 rows\n",
            "\n"
          ]
        }
      ]
    },
    {
      "cell_type": "markdown",
      "source": [
        "Linear Regression Model"
      ],
      "metadata": {
        "id": "-2esIF4UYWc3"
      }
    },
    {
      "cell_type": "code",
      "source": [
        "from pyspark.ml.regression import LinearRegression\n",
        "lr = LinearRegression(featuresCol = 'features', labelCol = 'IndividualRate', maxIter=10)\n",
        "lrModel = lr.fit(train)"
      ],
      "metadata": {
        "id": "h84b76vXX8yQ"
      },
      "execution_count": null,
      "outputs": []
    },
    {
      "cell_type": "code",
      "source": [
        "accuracy = lrModel.summary.r2"
      ],
      "metadata": {
        "id": "T_vTM7pwYVlf"
      },
      "execution_count": null,
      "outputs": []
    },
    {
      "cell_type": "code",
      "source": [
        "accuracy*100"
      ],
      "metadata": {
        "colab": {
          "base_uri": "https://localhost:8080/"
        },
        "id": "S8WrZ92FYcP_",
        "outputId": "34abd39e-b658-4382-91e9-f965405270ec"
      },
      "execution_count": null,
      "outputs": [
        {
          "output_type": "execute_result",
          "data": {
            "text/plain": [
              "98.23562375796375"
            ]
          },
          "metadata": {},
          "execution_count": 76
        }
      ]
    },
    {
      "cell_type": "code",
      "source": [
        "lrModel.coefficients"
      ],
      "metadata": {
        "colab": {
          "base_uri": "https://localhost:8080/"
        },
        "id": "1J-L6tkBYgcM",
        "outputId": "95abdfc1-af7f-455c-8bde-c2e2f57ee1e5"
      },
      "execution_count": null,
      "outputs": [
        {
          "output_type": "execute_result",
          "data": {
            "text/plain": [
              "DenseVector([-0.452, 0.8261])"
            ]
          },
          "metadata": {},
          "execution_count": 77
        }
      ]
    },
    {
      "cell_type": "code",
      "source": [
        "predictions = lrModel.transform(test)\n",
        "predictions.select('prediction', 'IndividualRate').show(5)"
      ],
      "metadata": {
        "colab": {
          "base_uri": "https://localhost:8080/"
        },
        "id": "ybkJq8oZYkXJ",
        "outputId": "3bfa1280-18a8-4226-9f02-78f9ce0ef4ce"
      },
      "execution_count": null,
      "outputs": [
        {
          "output_type": "stream",
          "name": "stdout",
          "text": [
            "+------------------+--------------+\n",
            "|        prediction|IndividualRate|\n",
            "+------------------+--------------+\n",
            "|151.36863410001172|        130.55|\n",
            "| 153.5083487148097|        133.14|\n",
            "| 160.3570877714412|        141.43|\n",
            "|161.70370353287777|        143.06|\n",
            "|163.62862054155707|        145.39|\n",
            "+------------------+--------------+\n",
            "only showing top 5 rows\n",
            "\n"
          ]
        }
      ]
    },
    {
      "cell_type": "markdown",
      "source": [
        "#Part 5: Predicting Plan rates"
      ],
      "metadata": {
        "id": "jMDt-s7YFVUQ"
      }
    },
    {
      "cell_type": "code",
      "source": [
        "rate = spark.read\\\n",
        "        .option(\"InferSchema\",\"true\")\\\n",
        "        .option(\"header\",\"true\")\\\n",
        "        .format(\"csv\")\\\n",
        "        .load(\"/content/drive/MyDrive/Adv Project/output1_r.csv\")\n",
        "\n",
        "plan = spark.read\\\n",
        "        .option(\"InferSchema\",\"true\")\\\n",
        "        .option(\"header\",\"true\")\\\n",
        "        .format(\"csv\")\\\n",
        "        .load(\"/content/drive/MyDrive/Adv Project/output2_pa.csv\")"
      ],
      "metadata": {
        "id": "9ZlmaAMmFVvv"
      },
      "execution_count": null,
      "outputs": []
    },
    {
      "cell_type": "code",
      "source": [
        "rate = rate.filter(col(\"IndividualRate\")!= 99999)\n"
      ],
      "metadata": {
        "id": "maddwp1jGRpZ"
      },
      "execution_count": null,
      "outputs": []
    },
    {
      "cell_type": "code",
      "source": [
        "rate = rate.groupBy(\"PlanId\").agg(avg(\"IndividualRate\").alias(\"Avg\"))"
      ],
      "metadata": {
        "id": "IFv3usscGYeJ"
      },
      "execution_count": null,
      "outputs": []
    },
    {
      "cell_type": "code",
      "source": [
        "rate.show()"
      ],
      "metadata": {
        "colab": {
          "base_uri": "https://localhost:8080/"
        },
        "id": "bfIkhw2-GeNB",
        "outputId": "8a4346a2-2585-4cbb-8602-c8319be2995c"
      },
      "execution_count": null,
      "outputs": [
        {
          "output_type": "stream",
          "name": "stdout",
          "text": [
            "+--------------+------------------+\n",
            "|        PlanId|               Avg|\n",
            "+--------------+------------------+\n",
            "|15560MI0720003|  26.5649836601307|\n",
            "|53901AZ1420027| 671.6096732026144|\n",
            "|97667AZ0110016| 537.8208683473389|\n",
            "|12379FL0010004| 691.0651568627451|\n",
            "|12379FL0010006| 470.7122352941179|\n",
            "|56503FL1320001| 357.9974509803922|\n",
            "|58081GA0010005| 513.2848366013072|\n",
            "|70893GA0010032| 581.5922222222222|\n",
            "|89942GA0060003| 678.3549509803938|\n",
            "|63366IA0010022| 32.99947712418305|\n",
            "|83557IN0020003| 39.15703575547879|\n",
            "|76763KS0010001| 515.5938235294118|\n",
            "|80065KS0010021| 466.4216013071896|\n",
            "|36239KY1140058| 612.5701960784314|\n",
            "|48396ME0720067|  546.304705882353|\n",
            "|73301AL0020003| 519.2482352941175|\n",
            "|93299FL0010001| 1.960294117647059|\n",
            "|83761GA0040312| 771.3298039215683|\n",
            "|36096IL0950033| 624.0435947712419|\n",
            "|60600IL0010001|2.8519607843137247|\n",
            "+--------------+------------------+\n",
            "only showing top 20 rows\n",
            "\n"
          ]
        }
      ]
    },
    {
      "cell_type": "code",
      "source": [
        "plan = plan.withColumn(\"PlanId\",substring(\"PlanId\",1,14))"
      ],
      "metadata": {
        "id": "piBR_LCzGgO8"
      },
      "execution_count": null,
      "outputs": []
    },
    {
      "cell_type": "code",
      "source": [
        "features = [\"BeginPrimaryCareCostSharingAfterNumberOfVisits\",\n",
        "\"BeginPrimaryCareDeductibleCoinsuranceAfterNumberOfCopays\",\n",
        "\"ChildOnlyOffering\",\n",
        "\"DentalOnlyPlan\",\n",
        "\"DiseaseManagementProgramsOffered\",\n",
        "\"FirstTierUtilization\",\n",
        "\"MarketCoverage\",\n",
        "\"MetalLevel\",\n",
        "\"OutOfCountryCoverage\",\n",
        "\"PlanType\",\n",
        "\"WellnessProgramOffered\"]\n",
        "\n",
        "label = [\"PlanId\"]\n",
        "\n",
        "all_columns = features+label"
      ],
      "metadata": {
        "id": "p50XdX-cGmG-"
      },
      "execution_count": null,
      "outputs": []
    },
    {
      "cell_type": "code",
      "source": [
        "plan = plan.select(all_columns)"
      ],
      "metadata": {
        "id": "0Us55vZaGpqW"
      },
      "execution_count": null,
      "outputs": []
    },
    {
      "cell_type": "code",
      "source": [
        "planattr = plan.join(rate,[\"PlanId\"])"
      ],
      "metadata": {
        "id": "CrzerxDnGw4f"
      },
      "execution_count": null,
      "outputs": []
    },
    {
      "cell_type": "code",
      "source": [
        "planattr.cache()"
      ],
      "metadata": {
        "colab": {
          "base_uri": "https://localhost:8080/"
        },
        "id": "eGQKx7vUGyvR",
        "outputId": "5ac85a55-d360-4fdc-ff1b-33a9ebe1c72f"
      },
      "execution_count": null,
      "outputs": [
        {
          "output_type": "execute_result",
          "data": {
            "text/plain": [
              "DataFrame[PlanId: string, BeginPrimaryCareCostSharingAfterNumberOfVisits: string, BeginPrimaryCareDeductibleCoinsuranceAfterNumberOfCopays: string, ChildOnlyOffering: string, DentalOnlyPlan: string, DiseaseManagementProgramsOffered: string, FirstTierUtilization: string, MarketCoverage: string, MetalLevel: string, OutOfCountryCoverage: string, PlanType: string, WellnessProgramOffered: string, Avg: double]"
            ]
          },
          "metadata": {},
          "execution_count": 134
        }
      ]
    },
    {
      "cell_type": "code",
      "source": [
        "planattr.show(5)"
      ],
      "metadata": {
        "colab": {
          "base_uri": "https://localhost:8080/"
        },
        "id": "XOEhHJbFG1qo",
        "outputId": "2cc38855-851f-4123-c2a9-de47419ddccb"
      },
      "execution_count": null,
      "outputs": [
        {
          "output_type": "stream",
          "name": "stdout",
          "text": [
            "+--------------+----------------------------------------------+--------------------------------------------------------+--------------------+--------------+--------------------------------+--------------------+--------------+----------+--------------------+--------+----------------------+----------------+\n",
            "|        PlanId|BeginPrimaryCareCostSharingAfterNumberOfVisits|BeginPrimaryCareDeductibleCoinsuranceAfterNumberOfCopays|   ChildOnlyOffering|DentalOnlyPlan|DiseaseManagementProgramsOffered|FirstTierUtilization|MarketCoverage|MetalLevel|OutOfCountryCoverage|PlanType|WellnessProgramOffered|             Avg|\n",
            "+--------------+----------------------------------------------+--------------------------------------------------------+--------------------+--------------+--------------------------------+--------------------+--------------+----------+--------------------+--------+----------------------+----------------+\n",
            "|15560MI0720003|                                             0|                                                       0|Allows Adult and ...|           Yes|                            null|                100%|    Individual|      High|                 Yes|     PPO|                  null|26.5649836601307|\n",
            "|15560MI0720003|                                             0|                                                       0|Allows Adult and ...|           Yes|                            null|                100%|    Individual|      High|                 Yes|     PPO|                  null|26.5649836601307|\n",
            "|15560MI0720003|                                             0|                                                       0|Allows Adult and ...|           Yes|                            null|                100%|    Individual|      High|                 Yes|     PPO|                  null|26.5649836601307|\n",
            "|15560MI0720003|                                             0|                                                       0|Allows Adult and ...|           Yes|                            null|                100%|    Individual|      High|                 Yes|     PPO|                  null|26.5649836601307|\n",
            "|15560MI0720003|                                             0|                                                       0|Allows Adult and ...|           Yes|                            null|                100%|    Individual|      High|                 Yes|     PPO|                  null|26.5649836601307|\n",
            "+--------------+----------------------------------------------+--------------------------------------------------------+--------------------+--------------+--------------------------------+--------------------+--------------+----------+--------------------+--------+----------------------+----------------+\n",
            "only showing top 5 rows\n",
            "\n"
          ]
        }
      ]
    },
    {
      "cell_type": "code",
      "source": [
        "planattr.groupBy(\"PlanId\").count().show()"
      ],
      "metadata": {
        "colab": {
          "base_uri": "https://localhost:8080/"
        },
        "id": "4bsTSLpvG5Vm",
        "outputId": "d2bf31b5-0b3c-444d-cea8-0040dc325e26"
      },
      "execution_count": null,
      "outputs": [
        {
          "output_type": "stream",
          "name": "stdout",
          "text": [
            "+--------------+-----+\n",
            "|        PlanId|count|\n",
            "+--------------+-----+\n",
            "|15560MI0720003|    6|\n",
            "|29698MI0540450|    7|\n",
            "|34930MI0110003|    3|\n",
            "|90714MS0010019|   12|\n",
            "|90714MS0030014|   14|\n",
            "|37900NC0010015|    8|\n",
            "|56891NC0030008|    3|\n",
            "|37160ND2410022|   12|\n",
            "|83653NE0010007|    4|\n",
            "|83653NE0010010|   13|\n",
            "|96751NH0160044|    6|\n",
            "|33602TX0460691|   21|\n",
            "|37833WI0540014|    4|\n",
            "|38345WI0080047|   12|\n",
            "|86584WI0010003|   12|\n",
            "|13877AZ0070045|   14|\n",
            "|68398FL0030024|    7|\n",
            "|34762MO0590013|    6|\n",
            "|11512NC0140010|    7|\n",
            "|45480OK0050021|    4|\n",
            "+--------------+-----+\n",
            "only showing top 20 rows\n",
            "\n"
          ]
        }
      ]
    },
    {
      "cell_type": "code",
      "source": [
        "planattr = planattr.withColumn(\"ChildOnlyOffering\", lower(\"ChildOnlyOffering\"))\\\n",
        "                    .withColumn(\"WellnessProgramOffered\", when(lower(\"WellnessProgramOffered\") == \"no\",\"no\")\n",
        "                                                        .when(lower(\"WellnessProgramOffered\").isNull(),\"none\")\n",
        "                                                        .otherwise(\"yes\"))\n",
        "                    \n"
      ],
      "metadata": {
        "id": "_qGy6QcTHBeh"
      },
      "execution_count": null,
      "outputs": []
    },
    {
      "cell_type": "code",
      "source": [
        "planattr.show(5)"
      ],
      "metadata": {
        "colab": {
          "base_uri": "https://localhost:8080/"
        },
        "id": "-WG1tMliLbBZ",
        "outputId": "d04e5ec0-af78-4840-96d9-87bdc0b85ad5"
      },
      "execution_count": null,
      "outputs": [
        {
          "output_type": "stream",
          "name": "stdout",
          "text": [
            "+--------------+----------------------------------------------+--------------------------------------------------------+--------------------+--------------+--------------------------------+--------------------+--------------+----------+--------------------+--------+----------------------+----------------+\n",
            "|        PlanId|BeginPrimaryCareCostSharingAfterNumberOfVisits|BeginPrimaryCareDeductibleCoinsuranceAfterNumberOfCopays|   ChildOnlyOffering|DentalOnlyPlan|DiseaseManagementProgramsOffered|FirstTierUtilization|MarketCoverage|MetalLevel|OutOfCountryCoverage|PlanType|WellnessProgramOffered|             Avg|\n",
            "+--------------+----------------------------------------------+--------------------------------------------------------+--------------------+--------------+--------------------------------+--------------------+--------------+----------+--------------------+--------+----------------------+----------------+\n",
            "|15560MI0720003|                                             0|                                                       0|allows adult and ...|           Yes|                            null|                100%|    Individual|      High|                 Yes|     PPO|                  none|26.5649836601307|\n",
            "|15560MI0720003|                                             0|                                                       0|allows adult and ...|           Yes|                            null|                100%|    Individual|      High|                 Yes|     PPO|                  none|26.5649836601307|\n",
            "|15560MI0720003|                                             0|                                                       0|allows adult and ...|           Yes|                            null|                100%|    Individual|      High|                 Yes|     PPO|                  none|26.5649836601307|\n",
            "|15560MI0720003|                                             0|                                                       0|allows adult and ...|           Yes|                            null|                100%|    Individual|      High|                 Yes|     PPO|                  none|26.5649836601307|\n",
            "|15560MI0720003|                                             0|                                                       0|allows adult and ...|           Yes|                            null|                100%|    Individual|      High|                 Yes|     PPO|                  none|26.5649836601307|\n",
            "+--------------+----------------------------------------------+--------------------------------------------------------+--------------------+--------------+--------------------------------+--------------------+--------------+----------+--------------------+--------+----------------------+----------------+\n",
            "only showing top 5 rows\n",
            "\n"
          ]
        }
      ]
    },
    {
      "cell_type": "code",
      "source": [
        "perc_conv = udf(lambda col1: float(col1[:-1])/100, FloatType())"
      ],
      "metadata": {
        "id": "LOlN0xELHFAf"
      },
      "execution_count": null,
      "outputs": []
    },
    {
      "cell_type": "code",
      "source": [
        "planattr = planattr.withColumn(\"FirstTierUtilization\", perc_conv(col(\"FirstTierUtilization\")))"
      ],
      "metadata": {
        "id": "Oozy74DlHIDR"
      },
      "execution_count": null,
      "outputs": []
    },
    {
      "cell_type": "code",
      "source": [
        "planattr = planattr.withColumn(\"DiseaseManagementProgramsOffered\", when(col(\"DiseaseManagementProgramsOffered\").isNull(),\"no\")\\\n",
        "                                                        .otherwise(\"yes\"))"
      ],
      "metadata": {
        "id": "E2wQeb27H49l"
      },
      "execution_count": null,
      "outputs": []
    },
    {
      "cell_type": "code",
      "source": [
        "planattr = planattr.where(col(\"PlanId\").isNotNull())"
      ],
      "metadata": {
        "id": "XpJKgMfAH7Hf"
      },
      "execution_count": null,
      "outputs": []
    },
    {
      "cell_type": "code",
      "source": [
        "for column in planattr.columns:\n",
        "    if (planattr.where(col(column).isNull()).count() >0):\n",
        "        print(column)"
      ],
      "metadata": {
        "id": "8kZLT0MEH9fi"
      },
      "execution_count": null,
      "outputs": []
    },
    {
      "cell_type": "code",
      "source": [
        "from pyspark.ml.feature import OneHotEncoder, StringIndexer, VectorAssembler, MinMaxScaler\n",
        "\n",
        "categoricalColumns = [\\\n",
        "                      \"ChildOnlyOffering\",\\\n",
        "                      \"DentalOnlyPlan\",\\\n",
        "                      \"DiseaseManagementProgramsOffered\",\\\n",
        "                      \"MarketCoverage\",\\\n",
        "                      \"MetalLevel\",\\\n",
        "                      \"OutOfCountryCoverage\",\\\n",
        "                      \"PlanType\",\\\n",
        "                      \"WellnessProgramOffered\"]\n",
        "stages = []\n",
        "for categoricalCol in categoricalColumns:\n",
        "    stringIndexer = StringIndexer(inputCol = categoricalCol, outputCol = categoricalCol + 'Index')\n",
        "    encoder = OneHotEncoder(inputCols=[stringIndexer.getOutputCol()], outputCols=[categoricalCol + \"classVec\"])\n",
        "    stages += [stringIndexer, encoder]\n",
        "numericCols = [\"BeginPrimaryCareCostSharingAfterNumberOfVisits\",\\\n",
        "               \"BeginPrimaryCareDeductibleCoinsuranceAfterNumberOfCopays\",\\\n",
        "               \"FirstTierUtilization\"]\n",
        "normalizeCols = numericCols+[\"Avg\"]\n",
        "for norm in normalizeCols:\n",
        "    assembler = VectorAssembler(inputCols=[norm],outputCol=norm+\"_Vec\")\n",
        "    scaler = MinMaxScaler(inputCol=norm+\"_Vec\", outputCol=norm+\"_Scaled\")\n",
        "    stages += [assembler,scaler]\n",
        "assemblerInputs = [c + \"classVec\" for c in categoricalColumns] + [n + \"_Scaled\" for n in numericCols]\n",
        "assembler = VectorAssembler(inputCols=assemblerInputs, outputCol=\"features\")\n",
        "stages += [assembler]"
      ],
      "metadata": {
        "id": "PzT6ETEjH_03"
      },
      "execution_count": null,
      "outputs": []
    },
    {
      "cell_type": "code",
      "source": [
        "planattr.printSchema()"
      ],
      "metadata": {
        "colab": {
          "base_uri": "https://localhost:8080/"
        },
        "id": "zgpTxcSlPTiF",
        "outputId": "3f2965bb-77be-4983-87c6-860483c4defd"
      },
      "execution_count": null,
      "outputs": [
        {
          "output_type": "stream",
          "name": "stdout",
          "text": [
            "root\n",
            " |-- PlanId: string (nullable = true)\n",
            " |-- BeginPrimaryCareCostSharingAfterNumberOfVisits: string (nullable = true)\n",
            " |-- BeginPrimaryCareDeductibleCoinsuranceAfterNumberOfCopays: string (nullable = true)\n",
            " |-- ChildOnlyOffering: string (nullable = true)\n",
            " |-- DentalOnlyPlan: string (nullable = true)\n",
            " |-- DiseaseManagementProgramsOffered: string (nullable = false)\n",
            " |-- FirstTierUtilization: float (nullable = true)\n",
            " |-- MarketCoverage: string (nullable = true)\n",
            " |-- MetalLevel: string (nullable = true)\n",
            " |-- OutOfCountryCoverage: string (nullable = true)\n",
            " |-- PlanType: string (nullable = true)\n",
            " |-- WellnessProgramOffered: string (nullable = false)\n",
            " |-- Avg: double (nullable = true)\n",
            "\n"
          ]
        }
      ]
    },
    {
      "cell_type": "code",
      "source": [
        "planattr=planattr.withColumn(\"BeginPrimaryCareCostSharingAfterNumberOfVisits\", col(\"BeginPrimaryCareCostSharingAfterNumberOfVisits\").cast(\"integer\"))"
      ],
      "metadata": {
        "id": "JnffVFC5PX7Y"
      },
      "execution_count": null,
      "outputs": []
    },
    {
      "cell_type": "code",
      "source": [
        "planattr=planattr.withColumn(\"BeginPrimaryCareDeductibleCoinsuranceAfterNumberOfCopays\", col(\"BeginPrimaryCareDeductibleCoinsuranceAfterNumberOfCopays\").cast(\"integer\"))"
      ],
      "metadata": {
        "id": "9cqKR0dlQV9j"
      },
      "execution_count": null,
      "outputs": []
    },
    {
      "cell_type": "code",
      "source": [
        "planattr.printSchema()"
      ],
      "metadata": {
        "colab": {
          "base_uri": "https://localhost:8080/"
        },
        "id": "1ZZB9qlfPyD2",
        "outputId": "6e376768-52c2-4bde-c1ee-bc1c00f769c1"
      },
      "execution_count": null,
      "outputs": [
        {
          "output_type": "stream",
          "name": "stdout",
          "text": [
            "root\n",
            " |-- PlanId: string (nullable = true)\n",
            " |-- BeginPrimaryCareCostSharingAfterNumberOfVisits: integer (nullable = true)\n",
            " |-- BeginPrimaryCareDeductibleCoinsuranceAfterNumberOfCopays: integer (nullable = true)\n",
            " |-- ChildOnlyOffering: string (nullable = true)\n",
            " |-- DentalOnlyPlan: string (nullable = true)\n",
            " |-- DiseaseManagementProgramsOffered: string (nullable = false)\n",
            " |-- FirstTierUtilization: float (nullable = true)\n",
            " |-- MarketCoverage: string (nullable = true)\n",
            " |-- MetalLevel: string (nullable = true)\n",
            " |-- OutOfCountryCoverage: string (nullable = true)\n",
            " |-- PlanType: string (nullable = true)\n",
            " |-- WellnessProgramOffered: string (nullable = false)\n",
            " |-- Avg: double (nullable = true)\n",
            " |-- BegBeginPrimaryCareCostSharingAfterNumberOfVisits: integer (nullable = true)\n",
            "\n"
          ]
        }
      ]
    },
    {
      "cell_type": "code",
      "source": [
        "from pyspark.ml import Pipeline\n",
        "pipeline = Pipeline(stages = stages)\n",
        "pipelineModel = pipeline.fit(planattr)\n",
        "planattr = pipelineModel.transform(planattr)\n",
        "selectedCols = ['features','Avg_Scaled'] + all_columns\n",
        "df = planattr.select(selectedCols)\n",
        "df.printSchema()"
      ],
      "metadata": {
        "colab": {
          "base_uri": "https://localhost:8080/"
        },
        "id": "meDv1MsCIHxS",
        "outputId": "6b609ce3-252d-48f2-b818-b5e42e004251"
      },
      "execution_count": null,
      "outputs": [
        {
          "output_type": "stream",
          "name": "stdout",
          "text": [
            "root\n",
            " |-- features: vector (nullable = true)\n",
            " |-- Avg_Scaled: vector (nullable = true)\n",
            " |-- BeginPrimaryCareCostSharingAfterNumberOfVisits: integer (nullable = true)\n",
            " |-- BeginPrimaryCareDeductibleCoinsuranceAfterNumberOfCopays: integer (nullable = true)\n",
            " |-- ChildOnlyOffering: string (nullable = true)\n",
            " |-- DentalOnlyPlan: string (nullable = true)\n",
            " |-- DiseaseManagementProgramsOffered: string (nullable = false)\n",
            " |-- FirstTierUtilization: float (nullable = true)\n",
            " |-- MarketCoverage: string (nullable = true)\n",
            " |-- MetalLevel: string (nullable = true)\n",
            " |-- OutOfCountryCoverage: string (nullable = true)\n",
            " |-- PlanType: string (nullable = true)\n",
            " |-- WellnessProgramOffered: string (nullable = false)\n",
            " |-- PlanId: string (nullable = true)\n",
            "\n"
          ]
        }
      ]
    },
    {
      "cell_type": "code",
      "source": [
        "planattr\n"
      ],
      "metadata": {
        "colab": {
          "base_uri": "https://localhost:8080/"
        },
        "id": "0vy9KdyfILRn",
        "outputId": "8d2a7f48-b157-4966-d4e9-d5ef4cb82fee"
      },
      "execution_count": null,
      "outputs": [
        {
          "output_type": "execute_result",
          "data": {
            "text/plain": [
              "DataFrame[PlanId: string, BeginPrimaryCareCostSharingAfterNumberOfVisits: int, BeginPrimaryCareDeductibleCoinsuranceAfterNumberOfCopays: int, ChildOnlyOffering: string, DentalOnlyPlan: string, DiseaseManagementProgramsOffered: string, FirstTierUtilization: float, MarketCoverage: string, MetalLevel: string, OutOfCountryCoverage: string, PlanType: string, WellnessProgramOffered: string, Avg: double, BegBeginPrimaryCareCostSharingAfterNumberOfVisits: int, ChildOnlyOfferingIndex: double, ChildOnlyOfferingclassVec: vector, DentalOnlyPlanIndex: double, DentalOnlyPlanclassVec: vector, DiseaseManagementProgramsOfferedIndex: double, DiseaseManagementProgramsOfferedclassVec: vector, MarketCoverageIndex: double, MarketCoverageclassVec: vector, MetalLevelIndex: double, MetalLevelclassVec: vector, OutOfCountryCoverageIndex: double, OutOfCountryCoverageclassVec: vector, PlanTypeIndex: double, PlanTypeclassVec: vector, WellnessProgramOfferedIndex: double, WellnessProgramOfferedclassVec: vector, BeginPrimaryCareCostSharingAfterNumberOfVisits_Vec: vector, BeginPrimaryCareCostSharingAfterNumberOfVisits_Scaled: vector, BeginPrimaryCareDeductibleCoinsuranceAfterNumberOfCopays_Vec: vector, BeginPrimaryCareDeductibleCoinsuranceAfterNumberOfCopays_Scaled: vector, FirstTierUtilization_Vec: vector, FirstTierUtilization_Scaled: vector, Avg_Vec: vector, Avg_Scaled: vector, features: vector]"
            ]
          },
          "metadata": {},
          "execution_count": 165
        }
      ]
    },
    {
      "cell_type": "code",
      "source": [
        "df.select(\"Avg_Scaled\").collect()[0][0][0]"
      ],
      "metadata": {
        "colab": {
          "base_uri": "https://localhost:8080/"
        },
        "id": "6jUueeq6QreN",
        "outputId": "6bd50d3f-f718-4165-cf7a-6331b8b842b2"
      },
      "execution_count": null,
      "outputs": [
        {
          "output_type": "execute_result",
          "data": {
            "text/plain": [
              "0.002862370008754469"
            ]
          },
          "metadata": {},
          "execution_count": 166
        }
      ]
    },
    {
      "cell_type": "code",
      "source": [
        "firstelement=udf(lambda v:float(v[0]),FloatType())"
      ],
      "metadata": {
        "id": "UI_lQDIyQsxb"
      },
      "execution_count": null,
      "outputs": []
    },
    {
      "cell_type": "code",
      "source": [
        "df = df.withColumn(\"Avg_Scaled\", firstelement('Avg_Scaled'))"
      ],
      "metadata": {
        "id": "pSp47pCAQvHX"
      },
      "execution_count": null,
      "outputs": []
    },
    {
      "cell_type": "code",
      "source": [
        "train, test = df.randomSplit([0.7, 0.3], seed = 2018)\n",
        "print(\"Training Dataset Count: \" + str(train.count()))\n",
        "print(\"Test Dataset Count: \" + str(test.count()))"
      ],
      "metadata": {
        "colab": {
          "base_uri": "https://localhost:8080/"
        },
        "id": "_UxLlZLUQxtf",
        "outputId": "9a62b698-3fb8-4e62-a0b5-a0ecf082170b"
      },
      "execution_count": null,
      "outputs": [
        {
          "output_type": "stream",
          "name": "stdout",
          "text": [
            "Training Dataset Count: 56303\n",
            "Test Dataset Count: 24274\n"
          ]
        }
      ]
    },
    {
      "cell_type": "code",
      "source": [
        "train.select(\"features\").show()"
      ],
      "metadata": {
        "colab": {
          "base_uri": "https://localhost:8080/"
        },
        "id": "EtQJ6MICQz7o",
        "outputId": "d63da077-0c17-43c7-d1c4-d0182b137e55"
      },
      "execution_count": null,
      "outputs": [
        {
          "output_type": "stream",
          "name": "stdout",
          "text": [
            "+--------------------+\n",
            "|            features|\n",
            "+--------------------+\n",
            "|(22,[0,2,3,4,5,12...|\n",
            "|(22,[0,2,3,4,5,12...|\n",
            "|(22,[0,2,3,4,5,12...|\n",
            "|(22,[0,2,3,4,5,12...|\n",
            "|(22,[0,2,3,4,5,12...|\n",
            "|(22,[0,2,3,4,5,12...|\n",
            "|(22,[0,2,3,4,5,12...|\n",
            "|(22,[0,2,3,4,5,12...|\n",
            "|(22,[0,2,3,4,5,12...|\n",
            "|(22,[0,2,3,4,5,12...|\n",
            "|(22,[0,2,3,4,5,12...|\n",
            "|(22,[0,2,3,4,5,12...|\n",
            "|(22,[0,2,3,4,5,12...|\n",
            "|(22,[0,2,3,4,5,12...|\n",
            "|(22,[0,2,3,4,5,12...|\n",
            "|(22,[0,2,3,4,5,12...|\n",
            "|(22,[0,2,3,4,5,12...|\n",
            "|(22,[0,2,3,4,5,12...|\n",
            "|(22,[0,2,3,4,5,12...|\n",
            "|(22,[0,2,3,4,5,12...|\n",
            "+--------------------+\n",
            "only showing top 20 rows\n",
            "\n"
          ]
        }
      ]
    },
    {
      "cell_type": "code",
      "source": [
        "from pyspark.ml.regression import LinearRegression\n",
        "lr = LinearRegression(featuresCol = 'features', labelCol = 'Avg_Scaled', maxIter=10)\n",
        "lrModel = lr.fit(train)"
      ],
      "metadata": {
        "id": "O5tIjUBQQ2t7"
      },
      "execution_count": null,
      "outputs": []
    },
    {
      "cell_type": "code",
      "source": [
        "# all_features = categoricalColumns+numericCols\n",
        "# len(all_features)\n",
        "# len(lrModel.coefficients)\n",
        "for i in range(0,len(lrModel.coefficients)):\n",
        "    print(lrModel.coefficients[i])"
      ],
      "metadata": {
        "colab": {
          "base_uri": "https://localhost:8080/"
        },
        "id": "Ba4IcF10Q5hz",
        "outputId": "62fff1c7-7e7d-4692-efbb-aa1b98079ad5"
      },
      "execution_count": null,
      "outputs": [
        {
          "output_type": "stream",
          "name": "stdout",
          "text": [
            "0.0011051260119236534\n",
            "0.025626494030224437\n",
            "0.15083239122934985\n",
            "-0.00553639283345478\n",
            "0.004035893306398447\n",
            "-0.02428607444092126\n",
            "-0.038876697143660696\n",
            "-0.01825734574907785\n",
            "-0.0414187995633041\n",
            "0.1078233872713039\n",
            "0.09745732072512632\n",
            "-0.0529431908331408\n",
            "0.0040481539968870205\n",
            "-0.010765223823050969\n",
            "-0.007007229591421182\n",
            "-0.0019103109515906536\n",
            "-0.004919930388763029\n",
            "0.05332853468631821\n",
            "0.05094503892183287\n",
            "-0.0006854544479121771\n",
            "-0.0004960405258108469\n",
            "0.00023230658369550024\n"
          ]
        }
      ]
    },
    {
      "cell_type": "code",
      "source": [
        "predictions = lrModel.transform(test)\n",
        "predictions.select('PlanId','prediction', 'Avg_Scaled').show(50)"
      ],
      "metadata": {
        "colab": {
          "base_uri": "https://localhost:8080/"
        },
        "id": "EvR4XuRiQ8G8",
        "outputId": "384092af-1f7d-41e6-891c-dbc86f8a0421"
      },
      "execution_count": null,
      "outputs": [
        {
          "output_type": "stream",
          "name": "stdout",
          "text": [
            "+--------------+--------------------+-----------+\n",
            "|        PlanId|          prediction| Avg_Scaled|\n",
            "+--------------+--------------------+-----------+\n",
            "|13877AZ0070045| 0.06850597448468666| 0.05606961|\n",
            "|13877AZ0070045| 0.06850597448468666| 0.05606961|\n",
            "|13877AZ0070045| 0.06850597448468666| 0.05606961|\n",
            "|13877AZ0070045| 0.06850597448468666| 0.05606961|\n",
            "|33602TX0460691| 0.06859889712301113| 0.06156161|\n",
            "|33602TX0460691| 0.06859889712301113| 0.06156161|\n",
            "|33602TX0460691| 0.06865697376893502| 0.06156161|\n",
            "|33602TX0460691| 0.06865697376893502| 0.06156161|\n",
            "|33602TX0460691| 0.06865697376893502| 0.06156161|\n",
            "|33602TX0460691| 0.06865697376893502| 0.06156161|\n",
            "|29698MI0540545| 0.06869181975095072| 0.05149422|\n",
            "|29698MI0540545| 0.06869181975095072| 0.05149422|\n",
            "|29698MI0540450| 0.06869181975095072| 0.05257958|\n",
            "|29698MI0540450| 0.06869181975095072| 0.05257958|\n",
            "|33602TX0460957| 0.06869181975095072| 0.06166339|\n",
            "|77739MI0070030| 0.07226396871631642|0.052097052|\n",
            "|77739MI0070030| 0.07226396871631642|0.052097052|\n",
            "|77739MI0070030| 0.07226396871631642|0.052097052|\n",
            "|77739MI0070030| 0.07226396871631642|0.052097052|\n",
            "|83653NE0010010| 0.07006631821809516|0.073829405|\n",
            "|83653NE0010010| 0.07006631821809516|0.073829405|\n",
            "|83653NE0010010| 0.07006631821809516|0.073829405|\n",
            "|11512NC0140010| 0.07174234475200601| 0.08849069|\n",
            "|11512NC0140010| 0.07174234475200601| 0.08849069|\n",
            "|11512NC0140010| 0.07174234475200601| 0.08849069|\n",
            "|79475WI0340155| 0.06449034340965547|  0.0582603|\n",
            "|79475WI0340155| 0.06449034340965547|  0.0582603|\n",
            "|79475WI0340155| 0.06449034340965547|  0.0582603|\n",
            "|79222SC0020028|  0.0646436657540637| 0.06946005|\n",
            "|90714MS0030014|  0.0646436657540637| 0.07161852|\n",
            "|90714MS0030014|  0.0646436657540637| 0.07161852|\n",
            "|90714MS0030014|  0.0646436657540637| 0.07161852|\n",
            "|90714MS0030014|  0.0646436657540637| 0.07161852|\n",
            "|90714MS0030014|  0.0646436657540637| 0.07161852|\n",
            "|90714MS0030014|  0.0646436657540637| 0.07161852|\n",
            "|42261UT0060016| 0.06601816422120814| 0.07394265|\n",
            "|42261UT0060016| 0.06601816422120814| 0.07394265|\n",
            "|42261UT0060016| 0.06601816422120814| 0.07394265|\n",
            "|11574IL0010012|0.053915351781947216|0.049373303|\n",
            "|37900NC0010015| 0.05171770128372592| 0.04750084|\n",
            "|37900NC0010015| 0.05171770128372592| 0.04750084|\n",
            "|37900NC0010015| 0.05171770128372592| 0.04750084|\n",
            "|43490KS0010039|   0.057673346013577|0.056741852|\n",
            "|53461MO0070051| 0.05785919127984106| 0.06994492|\n",
            "|53461MO0070051| 0.05785919127984106| 0.06994492|\n",
            "|83653NE0010007|0.055475695515355736| 0.05449378|\n",
            "|83653NE0010007|0.055475695515355736| 0.05449378|\n",
            "|86584WI0010003|0.050053043051324256|0.054131232|\n",
            "|86584WI0010003|0.050053043051324256|0.054131232|\n",
            "|86584WI0010003|0.050053043051324256|0.054131232|\n",
            "+--------------+--------------------+-----------+\n",
            "only showing top 50 rows\n",
            "\n"
          ]
        }
      ]
    }
  ]
}